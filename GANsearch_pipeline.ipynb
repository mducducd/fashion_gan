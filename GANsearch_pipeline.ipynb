{
 "cells": [
  {
   "cell_type": "code",
   "execution_count": 1,
   "metadata": {
    "collapsed": true
   },
   "outputs": [],
   "source": [
    "import os\n",
    "import numpy as np\n",
    "from PIL import Image\n",
    "import matplotlib.pyplot as plt\n",
    "import glob\n",
    "import random\n",
    "\n",
    "from utils.gan_utils import StarGAN_generator, Pix2PixGenerator\n",
    "from utils.search_utils import AkiwiFeatureGenerator, ResnetFeatureGenerator, Search, CombinedSearch\n",
    "\n",
    "%matplotlib inline\n",
    "\n",
    "import warnings\n",
    "warnings.filterwarnings('ignore')"
   ]
  },
  {
   "cell_type": "code",
   "execution_count": 2,
   "metadata": {},
   "outputs": [
    {
     "name": "stdout",
     "output_type": "stream",
     "text": [
      "Couldn't find model ./models/stargan/pattern.pth\n"
     ]
    }
   ],
   "source": [
    "StarGAN = StarGAN_generator('./models/stargan/')"
   ]
  },
  {
   "cell_type": "code",
   "execution_count": 3,
   "metadata": {
    "collapsed": true
   },
   "outputs": [],
   "source": [
    "Pix2Pix = Pix2PixGenerator('./models/pix2pix_models.pth')"
   ]
  },
  {
   "cell_type": "markdown",
   "metadata": {},
   "source": [
    "# Load Search Models"
   ]
  },
  {
   "cell_type": "code",
   "execution_count": 4,
   "metadata": {
    "collapsed": true
   },
   "outputs": [],
   "source": [
    "folder_gens = {'akiwi_50': AkiwiFeatureGenerator(50), \n",
    "               'akiwi_64': AkiwiFeatureGenerator(64),\n",
    "               'akiwi_114': AkiwiFeatureGenerator(114),\n",
    "               'resnet': ResnetFeatureGenerator(),\n",
    "               'resnet_retrained': ResnetFeatureGenerator('./models/resnet152_retrained.pth')\n",
    "              }"
   ]
  },
  {
   "cell_type": "code",
   "execution_count": 5,
   "metadata": {
    "collapsed": true
   },
   "outputs": [],
   "source": [
    "dress_imgs = '../../data/fashion/dresses/'\n",
    "model_imgs = '../../data/fashion_models/dresses_clustered2/'\n",
    "\n",
    "dress_feats = './data/features/fashion/dresses/'\n",
    "model_feats = './data/features/fashion_models/dresses/'"
   ]
  },
  {
   "cell_type": "code",
   "execution_count": 6,
   "metadata": {},
   "outputs": [
    {
     "name": "stdout",
     "output_type": "stream",
     "text": [
      "Loading features from: ./data/features/fashion/dresses/akiwi_50\n",
      "Loading features from: ./data/features/fashion/dresses/akiwi_64\n",
      "Loading features from: ./data/features/fashion/dresses/akiwi_114\n",
      "Loading features from: ./data/features/fashion/dresses/resnet\n",
      "Loading features from: ./data/features/fashion/dresses/resnet_retrained\n"
     ]
    }
   ],
   "source": [
    "dress_search = {}\n",
    "for dir_name, gen in folder_gens.items():\n",
    "    dress_search[dir_name] = Search(dress_imgs, os.path.join(dress_feats, dir_name), gen)"
   ]
  },
  {
   "cell_type": "code",
   "execution_count": 7,
   "metadata": {},
   "outputs": [
    {
     "name": "stdout",
     "output_type": "stream",
     "text": [
      "Loading features from: ./data/features/fashion_models/dresses/akiwi_50\n",
      "Loading features from: ./data/features/fashion_models/dresses/akiwi_64\n",
      "Loading features from: ./data/features/fashion_models/dresses/akiwi_114\n",
      "Loading features from: ./data/features/fashion_models/dresses/resnet\n",
      "Loading features from: ./data/features/fashion_models/dresses/resnet_retrained\n"
     ]
    }
   ],
   "source": [
    "model_search = {}\n",
    "for dir_name, gen in folder_gens.items():\n",
    "    model_search[dir_name] = Search(model_imgs, os.path.join(model_feats, dir_name), gen)"
   ]
  },
  {
   "cell_type": "code",
   "execution_count": 8,
   "metadata": {
    "collapsed": true
   },
   "outputs": [],
   "source": [
    "# combined search\n",
    "dress_search['resnet_50'] = CombinedSearch([dress_search['akiwi_50'], dress_search['resnet']], factors=[2, 1])\n",
    "model_search['resnet_50'] = CombinedSearch([model_search['akiwi_50'], model_search['resnet']], factors=[2, 1])"
   ]
  },
  {
   "cell_type": "markdown",
   "metadata": {
    "collapsed": true
   },
   "source": [
    "# StarGAN"
   ]
  },
  {
   "cell_type": "code",
   "execution_count": null,
   "metadata": {
    "collapsed": true
   },
   "outputs": [],
   "source": [
    "def plot_img_row(images, img_labels=None):\n",
    "    fig, axarr = plt.subplots(nrows=1, ncols=len(images), figsize=(len(images)*2, 2))\n",
    "    \n",
    "    for i, img in enumerate(images):\n",
    "        axarr[i].imshow(img)\n",
    "        axarr[i].set_xticks([])\n",
    "        axarr[i].set_yticks([])\n",
    "        \n",
    "        if img_labels is not None:\n",
    "            axarr[i].set_title(img_labels[i])\n",
    "        \n",
    "    plt.show()"
   ]
  },
  {
   "cell_type": "code",
   "execution_count": null,
   "metadata": {
    "collapsed": true
   },
   "outputs": [],
   "source": [
    "test_img = './data/test_images/dresses_sample/11834P1881-34.jpg'\n",
    "Image.open(test_img)"
   ]
  },
  {
   "cell_type": "code",
   "execution_count": null,
   "metadata": {
    "collapsed": true
   },
   "outputs": [],
   "source": [
    "fake_img = Pix2Pix.generate_image(Image.open(test_img))\n",
    "fake_img"
   ]
  },
  {
   "cell_type": "code",
   "execution_count": null,
   "metadata": {
    "collapsed": true
   },
   "outputs": [],
   "source": [
    "sim_imgs, _ = model_rn_search.get_similar_images(fake_img, num_imgs=6)\n",
    "plot_img_row([Image.open(i) for i in [test_img] + sim_imgs])"
   ]
  },
  {
   "cell_type": "code",
   "execution_count": null,
   "metadata": {
    "collapsed": true
   },
   "outputs": [],
   "source": [
    "sim_imgs, _ = model_50_search.get_similar_images(fake_img, num_imgs=6)\n",
    "plot_img_row([Image.open(i) for i in [test_img] + sim_imgs])"
   ]
  },
  {
   "cell_type": "code",
   "execution_count": null,
   "metadata": {
    "collapsed": true
   },
   "outputs": [],
   "source": []
  },
  {
   "cell_type": "code",
   "execution_count": null,
   "metadata": {
    "collapsed": true
   },
   "outputs": [],
   "source": [
    "test_img_path = './test_images/dresses_sample/5641460_552693338.jpg'\n",
    "test_img = Image.open(test_img_path)"
   ]
  },
  {
   "cell_type": "code",
   "execution_count": null,
   "metadata": {
    "collapsed": true
   },
   "outputs": [],
   "source": [
    "fake_sleeves = get_stargan_imgs_for_attr(test_img, 'sleeve_length')\n",
    "plot_img_row([test_img] + fake_sleeves, img_labels=['Original'] + StarGAN.LABELS['sleeve_length'])"
   ]
  },
  {
   "cell_type": "code",
   "execution_count": null,
   "metadata": {
    "collapsed": true
   },
   "outputs": [],
   "source": [
    "fake_pattern = get_stargan_imgs_for_attr(test_img, 'pattern')\n",
    "plot_img_row([test_img] + fake_pattern, img_labels=['Original'] + StarGAN.LABELS['pattern'])"
   ]
  },
  {
   "cell_type": "code",
   "execution_count": null,
   "metadata": {
    "collapsed": true
   },
   "outputs": [],
   "source": [
    "def get_stargan_imgs_for_attr(img, attr):\n",
    "    \n",
    "    fake_imgs = []\n",
    "    values = StarGAN.LABELS[attr]\n",
    "    for idx, v in enumerate(values):\n",
    "        \n",
    "        fake_img = StarGAN.generate_image(img, attr, v)\n",
    "        fake_imgs.append(fake_img)\n",
    "\n",
    "    return fake_imgs"
   ]
  },
  {
   "cell_type": "code",
   "execution_count": null,
   "metadata": {
    "collapsed": true
   },
   "outputs": [],
   "source": [
    "for fake_img in fake_sleeves:\n",
    "    sim_imgs = dress_rn_search.get_similar_images(fake_img, num_imgs=6)\n",
    "    sim_imgs = [fake_img] + sim_imgs\n",
    "    plot_img_row(sim_imgs)"
   ]
  },
  {
   "cell_type": "code",
   "execution_count": null,
   "metadata": {
    "collapsed": true
   },
   "outputs": [],
   "source": [
    "for fake_img in fake_pattern:\n",
    "    sim_imgs = dress_rn_search.get_similar_images(fake_img, num_imgs=6)\n",
    "    sim_imgs = [fake_img] + sim_imgs\n",
    "    plot_img_row(sim_imgs)"
   ]
  },
  {
   "cell_type": "code",
   "execution_count": null,
   "metadata": {
    "collapsed": true
   },
   "outputs": [],
   "source": [
    "for fake_img in fake_pattern:\n",
    "    sim_imgs = dress_114_search.get_similar_images(fake_img, num_imgs=6)\n",
    "    sim_imgs = [fake_img] + sim_imgs\n",
    "    plot_img_row(sim_imgs)"
   ]
  },
  {
   "cell_type": "code",
   "execution_count": null,
   "metadata": {
    "collapsed": true
   },
   "outputs": [],
   "source": [
    "# pix2pix\n",
    "model_imgs = [Pix2Pix.generate_image(img) for img in [test_img] + fake_pattern]\n",
    "plot_img_row(model_imgs, img_labels=['original'] + StarGAN.LABELS['pattern'])"
   ]
  },
  {
   "cell_type": "code",
   "execution_count": null,
   "metadata": {
    "collapsed": true
   },
   "outputs": [],
   "source": [
    "# pix2pix\n",
    "model_imgs = [Pix2Pix.generate_image(img) for img in [test_img] + fake_sleeves]\n",
    "plot_img_row(model_imgs, img_labels=['original'] + StarGAN.LABELS['sleeve_length'])"
   ]
  },
  {
   "cell_type": "code",
   "execution_count": null,
   "metadata": {
    "collapsed": true
   },
   "outputs": [],
   "source": [
    "for fake_img in model_imgs:\n",
    "    sim_imgs = model_rn_search.get_similar_images(fake_img, num_imgs=6)\n",
    "    sim_imgs = [fake_img] + sim_imgs\n",
    "    plot_img_row(sim_imgs)"
   ]
  },
  {
   "cell_type": "code",
   "execution_count": null,
   "metadata": {
    "collapsed": true
   },
   "outputs": [],
   "source": [
    "Pix2Pix.generate_image(test_imgs[0])"
   ]
  },
  {
   "cell_type": "code",
   "execution_count": null,
   "metadata": {
    "collapsed": true
   },
   "outputs": [],
   "source": []
  }
 ],
 "metadata": {
  "kernelspec": {
   "display_name": "Python 3",
   "language": "python",
   "name": "python3"
  },
  "language_info": {
   "codemirror_mode": {
    "name": "ipython",
    "version": 3
   },
   "file_extension": ".py",
   "mimetype": "text/x-python",
   "name": "python",
   "nbconvert_exporter": "python",
   "pygments_lexer": "ipython3",
   "version": "3.6.3"
  }
 },
 "nbformat": 4,
 "nbformat_minor": 2
}
