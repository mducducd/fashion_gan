{
 "cells": [
  {
   "cell_type": "code",
   "execution_count": 1,
   "metadata": {},
   "outputs": [],
   "source": [
    "from PIL import Image\n",
    "import matplotlib.pyplot as plt\n",
    "import os\n",
    "\n",
    "from src.gans import Modifier\n",
    "from src.search import AkiwiFeatureGenerator, ResnetFeatureGenerator, Search, CombinedSearch\n",
    "\n",
    "%matplotlib inline\n",
    "\n",
    "import warnings\n",
    "warnings.filterwarnings('ignore')"
   ]
  },
  {
   "cell_type": "markdown",
   "metadata": {},
   "source": [
    "# Load Search Models\n",
    "Load Resnet and Akiwi50 features to retrieve with combined Resnet50 features."
   ]
  },
  {
   "cell_type": "code",
   "execution_count": 2,
   "metadata": {
    "collapsed": true
   },
   "outputs": [],
   "source": [
    "folder_gens = {'akiwi_50': AkiwiFeatureGenerator(50), \n",
    "               'resnet': ResnetFeatureGenerator()}"
   ]
  },
  {
   "cell_type": "code",
   "execution_count": 3,
   "metadata": {
    "collapsed": true
   },
   "outputs": [],
   "source": [
    "dress_imgs = './data/images/fashion/dresses/'\n",
    "model_imgs = './data/images/fashion_models/dresses_clustered/'\n",
    "\n",
    "dress_feats = './data/features/fashion/dresses/'\n",
    "model_feats = './data/features/fashion_models/dresses/'"
   ]
  },
  {
   "cell_type": "code",
   "execution_count": 4,
   "metadata": {},
   "outputs": [
    {
     "name": "stdout",
     "output_type": "stream",
     "text": [
      "Loading features from: ./data/features/fashion/dresses/akiwi_50\n",
      "Loading features from: ./data/features/fashion/dresses/resnet\n"
     ]
    }
   ],
   "source": [
    "dress_search = {}\n",
    "for dir_name, gen in folder_gens.items():\n",
    "    dress_search[dir_name] = Search(dress_imgs, os.path.join(dress_feats, dir_name), gen)"
   ]
  },
  {
   "cell_type": "code",
   "execution_count": 5,
   "metadata": {},
   "outputs": [
    {
     "name": "stdout",
     "output_type": "stream",
     "text": [
      "Loading features from: ./data/features/fashion_models/dresses/akiwi_50\n",
      "Loading features from: ./data/features/fashion_models/dresses/resnet\n"
     ]
    }
   ],
   "source": [
    "model_search = {}\n",
    "for dir_name, gen in folder_gens.items():\n",
    "    model_search[dir_name] = Search(model_imgs, os.path.join(model_feats, dir_name), gen)"
   ]
  },
  {
   "cell_type": "code",
   "execution_count": 6,
   "metadata": {
    "collapsed": true
   },
   "outputs": [],
   "source": [
    "# combined search\n",
    "dress_resnet50 = CombinedSearch([dress_search['akiwi_50'], dress_search['resnet']], factors=[2, 1])\n",
    "model_resnet50 = CombinedSearch([model_search['akiwi_50'], model_search['resnet']], factors=[2, 1])"
   ]
  },
  {
   "cell_type": "markdown",
   "metadata": {},
   "source": [
    "# Modifications"
   ]
  },
  {
   "cell_type": "code",
   "execution_count": 7,
   "metadata": {},
   "outputs": [],
   "source": [
    "modifier = Modifier('./data/models/')"
   ]
  },
  {
   "cell_type": "code",
   "execution_count": 8,
   "metadata": {
    "collapsed": true
   },
   "outputs": [],
   "source": [
    "def plot_img_row(images, img_labels=None):\n",
    "    fig, axarr = plt.subplots(nrows=1, ncols=len(images), figsize=(len(images)*3, 4))\n",
    "    \n",
    "    for i, img in enumerate(images):\n",
    "        ax = axarr[i]\n",
    "        img = img.resize([256, 256])\n",
    "        img = img.crop((40, 0, 216, 256))\n",
    "        ax.imshow(img)\n",
    "        ax.set_xticks([])\n",
    "        ax.set_yticks([])\n",
    "        \n",
    "        for spine in ax.spines.keys():\n",
    "            ax.spines[spine].set_visible(False)\n",
    "        \n",
    "        if img_labels is not None:\n",
    "            ax.set_title(img_labels[i])\n",
    "        \n",
    "    plt.show()"
   ]
  },
  {
   "cell_type": "code",
   "execution_count": 9,
   "metadata": {
    "collapsed": true
   },
   "outputs": [],
   "source": [
    "def ask_attr_input(input_name, available_attr):\n",
    "    print(\"{}\".format(input_name))\n",
    "    print('-' * 20)\n",
    "    print(\"Choose from the following: {}\".format(list(available_attr)))\n",
    "    print(\"or press ENTER to skip\")\n",
    "    attr = input()\n",
    "    print()\n",
    "\n",
    "    if attr != '':\n",
    "        assert attr in available_attr, \"Invalid attribute\"\n",
    "\n",
    "    return attr\n",
    "    \n",
    "def ask_value_input(available_values):\n",
    "    print(\"Choose from the following: \\n{}\".format(available_values))\n",
    "    value = input()\n",
    "    print()\n",
    "    assert value in available_values, \"Invalid attribute value\"\n",
    "\n",
    "    return value\n",
    "\n",
    "def plot_img(img):\n",
    "    plt.imshow(img)\n",
    "    plt.axis('off')\n",
    "    plt.show()\n",
    "\n",
    "    return img"
   ]
  },
  {
   "cell_type": "code",
   "execution_count": 10,
   "metadata": {},
   "outputs": [],
   "source": [
    "def GAN_search(input_img):\n",
    "    output_img = input_img\n",
    "    plot_img(output_img)\n",
    "    \n",
    "    # SHAPE MODIFICATION\n",
    "    shape_attrs = modifier._shape_modifier.LABELS\n",
    "    attr = ask_attr_input('SHAPE MODIFICATION', list(shape_attrs.keys()))\n",
    "    \n",
    "    if attr != '':\n",
    "        value = ask_value_input(shape_attrs[attr])\n",
    "        output_img = modifier.modify_shape(output_img, attr, value)\n",
    "        plot_img(output_img)\n",
    "    \n",
    "\n",
    "    # PATTERN MODIFICATION\n",
    "    print()\n",
    "    pattern_attrs = modifier._pattern_modifier.LABELS\n",
    "    attr = ask_attr_input('PATTERN MODIFICATION', list(pattern_attrs.keys()))\n",
    "    \n",
    "    if attr != '':\n",
    "        value = ask_value_input(pattern_attrs[attr])\n",
    "        output_img = modifier.modify_pattern(output_img, attr, value)\n",
    "        plot_img(output_img)\n",
    "    \n",
    "    \n",
    "    # MODEL IMAGE\n",
    "    print(\"MODEL IMAGE\")\n",
    "    print('-' * 20)\n",
    "    model_img = modifier.product_to_model(output_img)\n",
    "    plot_img(model_img)\n",
    "    \n",
    "    \n",
    "    # SEARCH    \n",
    "    print(\"PRODUCT SEARCH\")\n",
    "    print('-' * 20)\n",
    "    prod_sim_imgs = dress_resnet50.get_similar_images(output_img, num_imgs=8, metric='l1')\n",
    "    plot_img_row([Image.open(i) for i in prod_sim_imgs], img_labels=range(8))\n",
    "    \n",
    "    print(\"MODEL SEARCH\")\n",
    "    print('-' * 20)\n",
    "    mod_sim_imgs = model_resnet50.get_similar_images(model_img, num_imgs=8, metric='l1')\n",
    "    plot_img_row([Image.open(i) for i in mod_sim_imgs])\n",
    "    plot_img_row([Image.open(os.path.join(dress_imgs, os.path.basename(i)))\n",
    "                  for i in mod_sim_imgs], img_labels=range(8, 16))\n",
    "    \n",
    "    \n",
    "     # BEST IMAGE\n",
    "    img_idx = ask_attr_input('SELECT IMAGE TO CONTINUE WITH', list(map(str, range(16))))\n",
    "    if img_idx != '':\n",
    "        img_idx = int(img_idx)\n",
    "        best_img_path = prod_sim_imgs[img_idx] if img_idx < 8 else mod_sim_imgs[img_idx]\n",
    "        best_img_path = os.path.join(dress_imgs, os.path.basename(best_img_path))\n",
    "        best_img = Image.open(best_img_path)\n",
    "        plot_img(best_img)\n",
    "        print()\n",
    "        \n",
    "        # CONTINUE?\n",
    "        print('CONTINUE?')\n",
    "        print('-' * 20)\n",
    "        print(\"'y' to continue modifying the selected image, ENTER to abort.\")\n",
    "        cont = ask_value_input([])\n",
    "        \n",
    "        if cont == 'y':\n",
    "            GAN_search(best_img)"
   ]
  },
  {
   "cell_type": "code",
   "execution_count": null,
   "metadata": {},
   "outputs": [],
   "source": [
    "test_img = Image.open('./data/images/test_images/dresses/NEW1407001000004.jpg')"
   ]
  },
  {
   "cell_type": "code",
   "execution_count": null,
   "metadata": {
    "scrolled": false
   },
   "outputs": [
    {
     "data": {
      "image/png": "[encoded data removed]",
      "text/plain": [
       "<matplotlib.figure.Figure at 0x1a37caf7f0>"
      ]
     },
     "metadata": {},
     "output_type": "display_data"
    },
    {
     "name": "stdout",
     "output_type": "stream",
     "text": [
      "SHAPE MODIFICATION\n",
      "--------------------\n",
      "Choose from the following: ['sleeve_length', 'fit', 'neckline', 'length']\n",
      "or press ENTER to skip\n"
     ]
    }
   ],
   "source": [
    "best_img = GAN_search(test_img)"
   ]
  },
  {
   "cell_type": "code",
   "execution_count": null,
   "metadata": {
    "collapsed": true
   },
   "outputs": [],
   "source": []
  }
 ],
 "metadata": {
  "kernelspec": {
   "display_name": "Python 3",
   "language": "python",
   "name": "python3"
  },
  "language_info": {
   "codemirror_mode": {
    "name": "ipython",
    "version": 3
   },
   "file_extension": ".py",
   "mimetype": "text/x-python",
   "name": "python",
   "nbconvert_exporter": "python",
   "pygments_lexer": "ipython3",
   "version": "3.6.3"
  }
 },
 "nbformat": 4,
 "nbformat_minor": 2
}
