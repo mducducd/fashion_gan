{
 "cells": [
  {
   "cell_type": "code",
   "execution_count": 1,
   "metadata": {
    "collapsed": true
   },
   "outputs": [],
   "source": [
    "import os\n",
    "import glob\n",
    "import numpy as np\n",
    "import pandas as pd\n",
    "import matplotlib.pyplot as plt\n",
    "from PIL import Image\n",
    "import shutil\n",
    "import image_utils\n",
    "\n",
    "from sklearn.metrics.pairwise import pairwise_distances\n",
    "from sklearn.decomposition import PCA\n",
    "from sklearn.preprocessing import StandardScaler\n",
    "\n",
    "import torch\n",
    "import torchvision\n",
    "import torch.nn as nn\n",
    "from torchvision import transforms\n",
    "\n",
    "\n",
    "%matplotlib inline"
   ]
  },
  {
   "cell_type": "markdown",
   "metadata": {},
   "source": [
    "# Load Data"
   ]
  },
  {
   "cell_type": "code",
   "execution_count": 6,
   "metadata": {
    "collapsed": true
   },
   "outputs": [],
   "source": [
    "data_path = '../../data/fashion_models/dresses_clustered2/*.jpg'"
   ]
  },
  {
   "cell_type": "code",
   "execution_count": 7,
   "metadata": {},
   "outputs": [
    {
     "name": "stdout",
     "output_type": "stream",
     "text": [
      "num images:  15304\n"
     ]
    }
   ],
   "source": [
    "# read data\n",
    "filelist = glob.glob(data_path)\n",
    "filelist = sorted(filelist)\n",
    "print('num images: ', len(filelist))"
   ]
  },
  {
   "cell_type": "code",
   "execution_count": 8,
   "metadata": {
    "collapsed": true
   },
   "outputs": [],
   "source": [
    "filenames = [os.path.basename(f).split('.jpg')[0] for f in filelist]\n",
    "filenames = sorted(filenames)"
   ]
  },
  {
   "cell_type": "markdown",
   "metadata": {},
   "source": [
    "# Get Features From Retrained ResNet152"
   ]
  },
  {
   "cell_type": "code",
   "execution_count": 12,
   "metadata": {
    "collapsed": true
   },
   "outputs": [],
   "source": [
    "feature_path = '../../data/features/fashion_models/dresses/resnet_retrained/'\n",
    "if not os.path.exists(feature_path):\n",
    "    os.makedirs(feature_path)"
   ]
  },
  {
   "cell_type": "code",
   "execution_count": 10,
   "metadata": {
    "collapsed": true
   },
   "outputs": [],
   "source": [
    "model_path = \"./transfer_learning/best_model.pth\"\n",
    "model = torchvision.models.resnet152(pretrained=True)\n",
    "num_ftrs = model.fc.in_features\n",
    "model.fc = nn.Linear(num_ftrs, 7)\n",
    "model.load_state_dict(torch.load(model_path, map_location='cpu'))\n",
    "modules = list(model.children())[:-1]\n",
    "model_last = nn.Sequential(*modules)"
   ]
  },
  {
   "cell_type": "code",
   "execution_count": 13,
   "metadata": {
    "collapsed": true
   },
   "outputs": [],
   "source": [
    "data_transforms = transforms.Compose([\n",
    "        transforms.Resize(224),\n",
    "        transforms.ToTensor(),\n",
    "        transforms.Normalize([0.485, 0.456, 0.406], [0.229, 0.224, 0.225])\n",
    "    ])"
   ]
  },
  {
   "cell_type": "code",
   "execution_count": 14,
   "metadata": {},
   "outputs": [
    {
     "name": "stdout",
     "output_type": "stream",
     "text": [
      "Downloaded 0 / 15304\n",
      "Downloaded 100 / 15304\n",
      "Downloaded 200 / 15304\n",
      "Downloaded 300 / 15304\n",
      "Downloaded 400 / 15304\n",
      "Downloaded 500 / 15304\n",
      "Downloaded 600 / 15304\n",
      "Downloaded 700 / 15304\n",
      "Downloaded 800 / 15304\n",
      "Downloaded 900 / 15304\n",
      "Downloaded 1000 / 15304\n",
      "Downloaded 1100 / 15304\n",
      "Downloaded 1200 / 15304\n",
      "Downloaded 1300 / 15304\n",
      "Downloaded 1400 / 15304\n",
      "Downloaded 1500 / 15304\n",
      "Downloaded 1600 / 15304\n",
      "Downloaded 1700 / 15304\n",
      "Downloaded 1800 / 15304\n",
      "Downloaded 1900 / 15304\n",
      "Downloaded 2000 / 15304\n",
      "Downloaded 2100 / 15304\n",
      "Downloaded 2200 / 15304\n",
      "Downloaded 2300 / 15304\n",
      "Downloaded 2400 / 15304\n",
      "Downloaded 2500 / 15304\n",
      "Downloaded 2600 / 15304\n",
      "Downloaded 2700 / 15304\n",
      "Downloaded 2800 / 15304\n",
      "Downloaded 2900 / 15304\n",
      "Downloaded 3000 / 15304\n",
      "Downloaded 3100 / 15304\n",
      "Downloaded 3200 / 15304\n",
      "Downloaded 3300 / 15304\n",
      "Downloaded 3400 / 15304\n",
      "Downloaded 3500 / 15304\n",
      "Downloaded 3600 / 15304\n",
      "Downloaded 3700 / 15304\n",
      "Downloaded 3800 / 15304\n",
      "Downloaded 3900 / 15304\n",
      "Downloaded 4000 / 15304\n",
      "Downloaded 4100 / 15304\n",
      "Downloaded 4200 / 15304\n",
      "Downloaded 4300 / 15304\n",
      "Downloaded 4400 / 15304\n",
      "Downloaded 4500 / 15304\n",
      "Downloaded 4600 / 15304\n",
      "Downloaded 4700 / 15304\n",
      "Downloaded 4800 / 15304\n",
      "Downloaded 4900 / 15304\n",
      "Downloaded 5000 / 15304\n",
      "Downloaded 5100 / 15304\n",
      "Downloaded 5200 / 15304\n",
      "Downloaded 5300 / 15304\n",
      "Downloaded 5400 / 15304\n",
      "Downloaded 5500 / 15304\n",
      "Downloaded 5600 / 15304\n",
      "Downloaded 5700 / 15304\n",
      "Downloaded 5800 / 15304\n",
      "Downloaded 5900 / 15304\n",
      "Downloaded 6000 / 15304\n",
      "Downloaded 6100 / 15304\n",
      "Downloaded 6200 / 15304\n",
      "Downloaded 6300 / 15304\n",
      "Downloaded 6400 / 15304\n",
      "Downloaded 6500 / 15304\n",
      "Downloaded 6600 / 15304\n",
      "Downloaded 6700 / 15304\n",
      "Downloaded 6800 / 15304\n",
      "Downloaded 6900 / 15304\n",
      "Downloaded 7000 / 15304\n",
      "Downloaded 7100 / 15304\n",
      "Downloaded 7200 / 15304\n",
      "Downloaded 7300 / 15304\n",
      "Downloaded 7400 / 15304\n",
      "Downloaded 7500 / 15304\n",
      "Downloaded 7600 / 15304\n",
      "Downloaded 7700 / 15304\n",
      "Downloaded 7800 / 15304\n",
      "Downloaded 7900 / 15304\n",
      "Downloaded 8000 / 15304\n",
      "Downloaded 8100 / 15304\n",
      "Downloaded 8200 / 15304\n",
      "Downloaded 8300 / 15304\n",
      "Downloaded 8400 / 15304\n",
      "Downloaded 8500 / 15304\n",
      "Downloaded 8600 / 15304\n",
      "Downloaded 8700 / 15304\n",
      "Downloaded 8800 / 15304\n",
      "Downloaded 8900 / 15304\n",
      "Downloaded 9000 / 15304\n",
      "Downloaded 9100 / 15304\n",
      "Downloaded 9200 / 15304\n",
      "Downloaded 9300 / 15304\n",
      "Downloaded 9400 / 15304\n",
      "Downloaded 9500 / 15304\n",
      "Downloaded 9600 / 15304\n",
      "Downloaded 9700 / 15304\n",
      "Downloaded 9800 / 15304\n",
      "Downloaded 9900 / 15304\n",
      "Downloaded 10000 / 15304\n",
      "Downloaded 10100 / 15304\n",
      "Downloaded 10200 / 15304\n",
      "Downloaded 10300 / 15304\n",
      "Downloaded 10400 / 15304\n",
      "Downloaded 10500 / 15304\n",
      "Downloaded 10600 / 15304\n",
      "Downloaded 10700 / 15304\n",
      "Downloaded 10800 / 15304\n",
      "Downloaded 10900 / 15304\n",
      "Downloaded 11000 / 15304\n",
      "Downloaded 11100 / 15304\n",
      "Downloaded 11200 / 15304\n",
      "Downloaded 11300 / 15304\n",
      "Downloaded 11400 / 15304\n",
      "Downloaded 11500 / 15304\n",
      "Downloaded 11600 / 15304\n",
      "Downloaded 11700 / 15304\n",
      "Downloaded 11800 / 15304\n",
      "Downloaded 11900 / 15304\n",
      "Downloaded 12000 / 15304\n",
      "Downloaded 12100 / 15304\n",
      "Downloaded 12200 / 15304\n",
      "Downloaded 12300 / 15304\n",
      "Downloaded 12400 / 15304\n",
      "Downloaded 12500 / 15304\n",
      "Downloaded 12600 / 15304\n",
      "Downloaded 12700 / 15304\n",
      "Downloaded 12800 / 15304\n",
      "Downloaded 12900 / 15304\n",
      "Downloaded 13000 / 15304\n",
      "Downloaded 13100 / 15304\n",
      "Downloaded 13200 / 15304\n",
      "Downloaded 13300 / 15304\n",
      "Downloaded 13400 / 15304\n",
      "Downloaded 13500 / 15304\n",
      "Downloaded 13600 / 15304\n",
      "Downloaded 13700 / 15304\n",
      "Downloaded 13800 / 15304\n",
      "Downloaded 13900 / 15304\n",
      "Downloaded 14000 / 15304\n",
      "Downloaded 14100 / 15304\n",
      "Downloaded 14200 / 15304\n",
      "Downloaded 14300 / 15304\n",
      "Downloaded 14400 / 15304\n",
      "Downloaded 14500 / 15304\n",
      "Downloaded 14600 / 15304\n",
      "Downloaded 14700 / 15304\n",
      "Downloaded 14800 / 15304\n",
      "Downloaded 14900 / 15304\n",
      "Downloaded 15000 / 15304\n",
      "Downloaded 15100 / 15304\n",
      "Downloaded 15200 / 15304\n",
      "Downloaded 15300 / 15304\n"
     ]
    }
   ],
   "source": [
    "image_utils.save_feature_vectors_from_model(filelist, feature_path, model_last, data_transforms)"
   ]
  },
  {
   "cell_type": "markdown",
   "metadata": {},
   "source": [
    "# Get Features From Original ResNet152"
   ]
  },
  {
   "cell_type": "code",
   "execution_count": 16,
   "metadata": {
    "collapsed": true
   },
   "outputs": [],
   "source": [
    "model = torchvision.models.resnet152(pretrained=True)\n",
    "modules = list(model.children())[:-1]\n",
    "model_last = nn.Sequential(*modules)"
   ]
  },
  {
   "cell_type": "code",
   "execution_count": 17,
   "metadata": {
    "collapsed": true
   },
   "outputs": [],
   "source": [
    "feature_path = '../../data/features/fashion_models/dresses/resnet/'\n",
    "if not os.path.exists(feature_path):\n",
    "    os.makedirs(feature_path)"
   ]
  },
  {
   "cell_type": "code",
   "execution_count": 18,
   "metadata": {},
   "outputs": [
    {
     "name": "stdout",
     "output_type": "stream",
     "text": [
      "Downloaded 0 / 15304\n",
      "Downloaded 100 / 15304\n",
      "Downloaded 200 / 15304\n",
      "Downloaded 300 / 15304\n",
      "Downloaded 400 / 15304\n",
      "Downloaded 500 / 15304\n",
      "Downloaded 600 / 15304\n",
      "Downloaded 700 / 15304\n",
      "Downloaded 800 / 15304\n",
      "Downloaded 900 / 15304\n",
      "Downloaded 1000 / 15304\n",
      "Downloaded 1100 / 15304\n",
      "Downloaded 1200 / 15304\n",
      "Downloaded 1300 / 15304\n",
      "Downloaded 1400 / 15304\n",
      "Downloaded 1500 / 15304\n",
      "Downloaded 1600 / 15304\n",
      "Downloaded 1700 / 15304\n",
      "Downloaded 1800 / 15304\n",
      "Downloaded 1900 / 15304\n",
      "Downloaded 2000 / 15304\n",
      "Downloaded 2100 / 15304\n",
      "Downloaded 2200 / 15304\n",
      "Downloaded 2300 / 15304\n",
      "Downloaded 2400 / 15304\n",
      "Downloaded 2500 / 15304\n",
      "Downloaded 2600 / 15304\n",
      "Downloaded 2700 / 15304\n",
      "Downloaded 2800 / 15304\n",
      "Downloaded 2900 / 15304\n",
      "Downloaded 3000 / 15304\n",
      "Downloaded 3100 / 15304\n",
      "Downloaded 3200 / 15304\n",
      "Downloaded 3300 / 15304\n",
      "Downloaded 3400 / 15304\n",
      "Downloaded 3500 / 15304\n",
      "Downloaded 3600 / 15304\n",
      "Downloaded 3700 / 15304\n",
      "Downloaded 3800 / 15304\n",
      "Downloaded 3900 / 15304\n",
      "Downloaded 4000 / 15304\n",
      "Downloaded 4100 / 15304\n",
      "Downloaded 4200 / 15304\n",
      "Downloaded 4300 / 15304\n",
      "Downloaded 4400 / 15304\n",
      "Downloaded 4500 / 15304\n",
      "Downloaded 4600 / 15304\n",
      "Downloaded 4700 / 15304\n",
      "Downloaded 4800 / 15304\n",
      "Downloaded 4900 / 15304\n",
      "Downloaded 5000 / 15304\n",
      "Downloaded 5100 / 15304\n",
      "Downloaded 5200 / 15304\n",
      "Downloaded 5300 / 15304\n",
      "Downloaded 5400 / 15304\n",
      "Downloaded 5500 / 15304\n",
      "Downloaded 5600 / 15304\n",
      "Downloaded 5700 / 15304\n",
      "Downloaded 5800 / 15304\n",
      "Downloaded 5900 / 15304\n",
      "Downloaded 6000 / 15304\n",
      "Downloaded 6100 / 15304\n",
      "Downloaded 6200 / 15304\n",
      "Downloaded 6300 / 15304\n",
      "Downloaded 6400 / 15304\n",
      "Downloaded 6500 / 15304\n",
      "Downloaded 6600 / 15304\n",
      "Downloaded 6700 / 15304\n",
      "Downloaded 6800 / 15304\n",
      "Downloaded 6900 / 15304\n",
      "Downloaded 7000 / 15304\n",
      "Downloaded 7100 / 15304\n",
      "Downloaded 7200 / 15304\n",
      "Downloaded 7300 / 15304\n",
      "Downloaded 7400 / 15304\n",
      "Downloaded 7500 / 15304\n",
      "Downloaded 7600 / 15304\n",
      "Downloaded 7700 / 15304\n",
      "Downloaded 7800 / 15304\n",
      "Downloaded 7900 / 15304\n",
      "Downloaded 8000 / 15304\n",
      "Downloaded 8100 / 15304\n",
      "Downloaded 8200 / 15304\n",
      "Downloaded 8300 / 15304\n",
      "Downloaded 8400 / 15304\n",
      "Downloaded 8500 / 15304\n",
      "Downloaded 8600 / 15304\n",
      "Downloaded 8700 / 15304\n",
      "Downloaded 8800 / 15304\n",
      "Downloaded 8900 / 15304\n",
      "Downloaded 9000 / 15304\n",
      "Downloaded 9100 / 15304\n",
      "Downloaded 9200 / 15304\n",
      "Downloaded 9300 / 15304\n",
      "Downloaded 9400 / 15304\n",
      "Downloaded 9500 / 15304\n",
      "Downloaded 9600 / 15304\n",
      "Downloaded 9700 / 15304\n",
      "Downloaded 9800 / 15304\n",
      "Downloaded 9900 / 15304\n",
      "Downloaded 10000 / 15304\n",
      "Downloaded 10100 / 15304\n",
      "Downloaded 10200 / 15304\n",
      "Downloaded 10300 / 15304\n",
      "Downloaded 10400 / 15304\n",
      "Downloaded 10500 / 15304\n",
      "Downloaded 10600 / 15304\n",
      "Downloaded 10700 / 15304\n",
      "Downloaded 10800 / 15304\n",
      "Downloaded 10900 / 15304\n",
      "Downloaded 11000 / 15304\n",
      "Downloaded 11100 / 15304\n",
      "Downloaded 11200 / 15304\n",
      "Downloaded 11300 / 15304\n",
      "Downloaded 11400 / 15304\n",
      "Downloaded 11500 / 15304\n",
      "Downloaded 11600 / 15304\n",
      "Downloaded 11700 / 15304\n",
      "Downloaded 11800 / 15304\n",
      "Downloaded 11900 / 15304\n",
      "Downloaded 12000 / 15304\n",
      "Downloaded 12100 / 15304\n",
      "Downloaded 12200 / 15304\n",
      "Downloaded 12300 / 15304\n",
      "Downloaded 12400 / 15304\n",
      "Downloaded 12500 / 15304\n",
      "Downloaded 12600 / 15304\n",
      "Downloaded 12700 / 15304\n",
      "Downloaded 12800 / 15304\n",
      "Downloaded 12900 / 15304\n",
      "Downloaded 13000 / 15304\n",
      "Downloaded 13100 / 15304\n",
      "Downloaded 13200 / 15304\n",
      "Downloaded 13300 / 15304\n",
      "Downloaded 13400 / 15304\n",
      "Downloaded 13500 / 15304\n",
      "Downloaded 13600 / 15304\n",
      "Downloaded 13700 / 15304\n",
      "Downloaded 13800 / 15304\n",
      "Downloaded 13900 / 15304\n",
      "Downloaded 14000 / 15304\n",
      "Downloaded 14100 / 15304\n",
      "Downloaded 14200 / 15304\n",
      "Downloaded 14300 / 15304\n",
      "Downloaded 14400 / 15304\n",
      "Downloaded 14500 / 15304\n",
      "Downloaded 14600 / 15304\n",
      "Downloaded 14700 / 15304\n",
      "Downloaded 14800 / 15304\n",
      "Downloaded 14900 / 15304\n",
      "Downloaded 15000 / 15304\n",
      "Downloaded 15100 / 15304\n",
      "Downloaded 15200 / 15304\n",
      "Downloaded 15300 / 15304\n"
     ]
    }
   ],
   "source": [
    "image_utils.save_feature_vectors_from_model(filelist, feature_path, model_last, data_transforms)"
   ]
  },
  {
   "cell_type": "markdown",
   "metadata": {},
   "source": [
    "# Get PCA From ResNet152"
   ]
  },
  {
   "cell_type": "code",
   "execution_count": null,
   "metadata": {
    "collapsed": true
   },
   "outputs": [],
   "source": [
    "feature_path = './test_features/models_sample/resnet_retrained/'\n",
    "resnet_retrained_feats = np.array([np.load(f) for f in glob.glob(feature_path + '*.npy')])"
   ]
  },
  {
   "cell_type": "code",
   "execution_count": null,
   "metadata": {
    "collapsed": true
   },
   "outputs": [],
   "source": [
    "scaler = StandardScaler()\n",
    "resnet_retrained_feats_std = scaler.fit_transform(resnet_retrained_feats)"
   ]
  },
  {
   "cell_type": "code",
   "execution_count": null,
   "metadata": {
    "collapsed": true
   },
   "outputs": [],
   "source": [
    "sklearn_pca = PCA(svd_solver='full', n_components=32)\n",
    "resnet_feats_pca = sklearn_pca.fit_transform(resnet_retrained_feats_std)\n",
    "resnet_feats_pca.shape"
   ]
  },
  {
   "cell_type": "code",
   "execution_count": null,
   "metadata": {
    "collapsed": true
   },
   "outputs": [],
   "source": [
    "sklearn_pca.explained_variance_"
   ]
  },
  {
   "cell_type": "code",
   "execution_count": null,
   "metadata": {
    "collapsed": true
   },
   "outputs": [],
   "source": [
    "pca_feature_path = './test_features/dresses_sample/resnet_retrained_pca_32/'\n",
    "if not os.path.exists(pca_feature_path):\n",
    "    os.makedirs(pca_feature_path)"
   ]
  },
  {
   "cell_type": "code",
   "execution_count": null,
   "metadata": {
    "collapsed": true
   },
   "outputs": [],
   "source": [
    "for idx, filename in enumerate(filenames):\n",
    "    np.save(os.path.join(pca_feature_path, filename + '.npy'), resnet_feats_pca[idx])"
   ]
  },
  {
   "cell_type": "markdown",
   "metadata": {},
   "source": [
    "# Get Features From Akiwi"
   ]
  },
  {
   "cell_type": "code",
   "execution_count": 20,
   "metadata": {
    "collapsed": true
   },
   "outputs": [],
   "source": [
    "feature_path = '../../data/features/fashion_models/dresses/akiwi_114/'\n",
    "if not os.path.exists(feature_path):\n",
    "    os.makedirs(feature_path)"
   ]
  },
  {
   "cell_type": "code",
   "execution_count": 22,
   "metadata": {},
   "outputs": [
    {
     "name": "stdout",
     "output_type": "stream",
     "text": [
      "Downloaded 0 / 15304\n",
      "Downloaded 100 / 15304\n",
      "Downloaded 200 / 15304\n",
      "Downloaded 300 / 15304\n",
      "Downloaded 400 / 15304\n",
      "Downloaded 500 / 15304\n",
      "Downloaded 600 / 15304\n",
      "Downloaded 700 / 15304\n",
      "Downloaded 800 / 15304\n",
      "Downloaded 900 / 15304\n",
      "Downloaded 1000 / 15304\n",
      "Downloaded 1100 / 15304\n",
      "Downloaded 1200 / 15304\n",
      "Downloaded 1300 / 15304\n",
      "Downloaded 1400 / 15304\n",
      "Downloaded 1500 / 15304\n",
      "Downloaded 1600 / 15304\n",
      "Downloaded 1700 / 15304\n",
      "Downloaded 1800 / 15304\n",
      "Downloaded 1900 / 15304\n",
      "Downloaded 2000 / 15304\n",
      "Downloaded 2100 / 15304\n",
      "Downloaded 2200 / 15304\n",
      "Downloaded 2300 / 15304\n",
      "Downloaded 2400 / 15304\n",
      "Downloaded 2500 / 15304\n",
      "Downloaded 2600 / 15304\n",
      "Downloaded 2700 / 15304\n",
      "Downloaded 2800 / 15304\n",
      "Downloaded 2900 / 15304\n",
      "Downloaded 3000 / 15304\n",
      "Downloaded 3100 / 15304\n",
      "Downloaded 3200 / 15304\n",
      "Downloaded 3300 / 15304\n",
      "Downloaded 3400 / 15304\n",
      "Downloaded 3500 / 15304\n",
      "Downloaded 3600 / 15304\n",
      "Downloaded 3700 / 15304\n",
      "Downloaded 3800 / 15304\n",
      "Downloaded 3900 / 15304\n",
      "Downloaded 4000 / 15304\n",
      "Downloaded 4100 / 15304\n",
      "Downloaded 4200 / 15304\n",
      "Downloaded 4300 / 15304\n",
      "Downloaded 4400 / 15304\n",
      "Downloaded 4500 / 15304\n",
      "Downloaded 4600 / 15304\n",
      "Downloaded 4700 / 15304\n",
      "Downloaded 4800 / 15304\n",
      "Downloaded 4900 / 15304\n",
      "Downloaded 5000 / 15304\n",
      "Downloaded 5100 / 15304\n",
      "Downloaded 5200 / 15304\n",
      "Downloaded 5300 / 15304\n",
      "Downloaded 5400 / 15304\n",
      "Downloaded 5500 / 15304\n",
      "Downloaded 5600 / 15304\n",
      "Downloaded 5700 / 15304\n",
      "Downloaded 5800 / 15304\n",
      "Downloaded 5900 / 15304\n",
      "Downloaded 6000 / 15304\n",
      "Downloaded 6100 / 15304\n",
      "Downloaded 6200 / 15304\n",
      "Downloaded 6300 / 15304\n",
      "Downloaded 6400 / 15304\n",
      "Downloaded 6500 / 15304\n",
      "Downloaded 6600 / 15304\n",
      "Downloaded 6700 / 15304\n",
      "Downloaded 6800 / 15304\n",
      "Downloaded 6900 / 15304\n",
      "Downloaded 7000 / 15304\n",
      "Downloaded 7100 / 15304\n",
      "Downloaded 7200 / 15304\n",
      "Downloaded 7300 / 15304\n",
      "Downloaded 7400 / 15304\n",
      "Downloaded 7500 / 15304\n",
      "Downloaded 7600 / 15304\n",
      "Downloaded 7700 / 15304\n",
      "Downloaded 7800 / 15304\n",
      "Downloaded 7900 / 15304\n",
      "Downloaded 8000 / 15304\n",
      "Downloaded 8100 / 15304\n",
      "Downloaded 8200 / 15304\n",
      "Downloaded 8300 / 15304\n",
      "Downloaded 8400 / 15304\n",
      "Downloaded 8500 / 15304\n",
      "Downloaded 8600 / 15304\n",
      "Downloaded 8700 / 15304\n",
      "Downloaded 8800 / 15304\n",
      "Downloaded 8900 / 15304\n",
      "Downloaded 9000 / 15304\n",
      "Downloaded 9100 / 15304\n",
      "Downloaded 9200 / 15304\n",
      "Downloaded 9300 / 15304\n",
      "Downloaded 9400 / 15304\n",
      "Downloaded 9500 / 15304\n",
      "Downloaded 9600 / 15304\n",
      "Downloaded 9700 / 15304\n",
      "Downloaded 9800 / 15304\n",
      "Downloaded 9900 / 15304\n",
      "Downloaded 10000 / 15304\n",
      "Downloaded 10100 / 15304\n",
      "Downloaded 10200 / 15304\n",
      "Downloaded 10300 / 15304\n",
      "Downloaded 10400 / 15304\n",
      "Downloaded 10500 / 15304\n",
      "Downloaded 10600 / 15304\n",
      "Downloaded 10700 / 15304\n",
      "Downloaded 10800 / 15304\n",
      "Downloaded 10900 / 15304\n",
      "Downloaded 11000 / 15304\n",
      "Downloaded 11100 / 15304\n",
      "Downloaded 11200 / 15304\n",
      "Downloaded 11300 / 15304\n",
      "Downloaded 11400 / 15304\n",
      "Downloaded 11500 / 15304\n",
      "Downloaded 11600 / 15304\n",
      "Downloaded 11700 / 15304\n",
      "Downloaded 11800 / 15304\n",
      "Downloaded 11900 / 15304\n",
      "Downloaded 12000 / 15304\n",
      "Downloaded 12100 / 15304\n",
      "Downloaded 12200 / 15304\n",
      "Downloaded 12300 / 15304\n",
      "Downloaded 12400 / 15304\n",
      "Downloaded 12500 / 15304\n",
      "Downloaded 12600 / 15304\n",
      "Downloaded 12700 / 15304\n",
      "Downloaded 12800 / 15304\n",
      "Downloaded 12900 / 15304\n",
      "Downloaded 13000 / 15304\n",
      "Downloaded 13100 / 15304\n",
      "Downloaded 13200 / 15304\n",
      "Downloaded 13300 / 15304\n",
      "Downloaded 13400 / 15304\n",
      "Downloaded 13500 / 15304\n",
      "Downloaded 13600 / 15304\n",
      "Downloaded 13700 / 15304\n",
      "Downloaded 13800 / 15304\n",
      "Downloaded 13900 / 15304\n",
      "Downloaded 14000 / 15304\n",
      "Downloaded 14100 / 15304\n",
      "Downloaded 14200 / 15304\n",
      "Downloaded 14300 / 15304\n",
      "Downloaded 14400 / 15304\n",
      "Downloaded 14500 / 15304\n",
      "Downloaded 14600 / 15304\n",
      "Downloaded 14700 / 15304\n",
      "Downloaded 14800 / 15304\n",
      "Downloaded 14900 / 15304\n",
      "Downloaded 15000 / 15304\n",
      "Downloaded 15100 / 15304\n",
      "Downloaded 15200 / 15304\n",
      "Downloaded 15300 / 15304\n"
     ]
    }
   ],
   "source": [
    "image_utils.download_feature_vectors_114(filelist, feature_path)"
   ]
  },
  {
   "cell_type": "code",
   "execution_count": 23,
   "metadata": {
    "collapsed": true
   },
   "outputs": [],
   "source": [
    "feat_path64 = '../../data/features/fashion_models/dresses/akiwi_64/'\n",
    "if not os.path.exists(feat_path64):\n",
    "    os.makedirs(feat_path64)\n",
    "    \n",
    "feat_path50 = '../../data/features/fashion_models/dresses/akiwi_50/'\n",
    "if not os.path.exists(feat_path50):\n",
    "    os.makedirs(feat_path50)"
   ]
  },
  {
   "cell_type": "code",
   "execution_count": 24,
   "metadata": {},
   "outputs": [
    {
     "name": "stdout",
     "output_type": "stream",
     "text": [
      "0\n",
      "1000\n",
      "2000\n",
      "3000\n",
      "4000\n",
      "5000\n",
      "6000\n",
      "7000\n",
      "8000\n",
      "9000\n",
      "10000\n",
      "11000\n",
      "12000\n",
      "13000\n",
      "14000\n",
      "15000\n"
     ]
    }
   ],
   "source": [
    "feats114 = glob.glob(feature_path + '*.npy')\n",
    "for idx, file in enumerate(feats114):\n",
    "    if idx % 1000 == 0:\n",
    "        print(idx)\n",
    "    \n",
    "    fv = np.load(file)\n",
    "    \n",
    "    feat64 = fv[:64]\n",
    "    np.save(os.path.join(feat_path64, os.path.basename(file)), feat64)\n",
    "    \n",
    "    feat50 = fv[64:]\n",
    "    np.save(os.path.join(feat_path50, os.path.basename(file)), feat50)"
   ]
  },
  {
   "cell_type": "code",
   "execution_count": null,
   "metadata": {
    "collapsed": true
   },
   "outputs": [],
   "source": []
  }
 ],
 "metadata": {
  "kernelspec": {
   "display_name": "Python 3",
   "language": "python",
   "name": "python3"
  },
  "language_info": {
   "codemirror_mode": {
    "name": "ipython",
    "version": 3
   },
   "file_extension": ".py",
   "mimetype": "text/x-python",
   "name": "python",
   "nbconvert_exporter": "python",
   "pygments_lexer": "ipython3",
   "version": "3.6.3"
  }
 },
 "nbformat": 4,
 "nbformat_minor": 2
}
