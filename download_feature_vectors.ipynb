{
 "cells": [
  {
   "cell_type": "markdown",
   "metadata": {},
   "source": [
    "# Features Download\n",
    "This notebook downloads various image features for all listed images. The available image features to be downloaded are:\n",
    "* Akiwi50\n",
    "* Akiwi64\n",
    "* Akiwi114\n",
    "* Resnet152 original\n",
    "* Resnet152 retrained for fashion dataset"
   ]
  },
  {
   "cell_type": "code",
   "execution_count": null,
   "metadata": {
    "collapsed": true
   },
   "outputs": [],
   "source": [
    "import os\n",
    "import glob\n",
    "import numpy as np\n",
    "from utils import search_utils"
   ]
  },
  {
   "cell_type": "markdown",
   "metadata": {},
   "source": [
    "## Load Data"
   ]
  },
  {
   "cell_type": "code",
   "execution_count": null,
   "metadata": {
    "collapsed": true
   },
   "outputs": [],
   "source": [
    "# path with all image files\n",
    "data_path = '../../data/fashion/dresses/*.jpg'\n",
    "# path to save features - subfolders for each feature name will be created\n",
    "feature_root = './data/features/fashion/dresses/'"
   ]
  },
  {
   "cell_type": "code",
   "execution_count": 3,
   "metadata": {},
   "outputs": [
    {
     "name": "stdout",
     "output_type": "stream",
     "text": [
      "num images:  15348\n"
     ]
    }
   ],
   "source": [
    "# read data\n",
    "filelist = glob.glob(data_path)\n",
    "filelist = sorted(filelist)\n",
    "print('num images: ', len(filelist))"
   ]
  },
  {
   "cell_type": "markdown",
   "metadata": {},
   "source": [
    "# Akiwi Features"
   ]
  },
  {
   "cell_type": "markdown",
   "metadata": {},
   "source": [
    "## 114 Features"
   ]
  },
  {
   "cell_type": "code",
   "execution_count": 14,
   "metadata": {
    "collapsed": true
   },
   "outputs": [],
   "source": [
    "feature_path = os.path.join(feature_root, 'akiwi_114')\n",
    "feature_gen = search_utils.AkiwiFeatureGenerator(114)"
   ]
  },
  {
   "cell_type": "code",
   "execution_count": 6,
   "metadata": {},
   "outputs": [
    {
     "name": "stdout",
     "output_type": "stream",
     "text": [
      "Downloaded 0 / 15348\n",
      "Downloaded 100 / 15348\n",
      "Downloaded 200 / 15348\n",
      "Downloaded 300 / 15348\n",
      "Downloaded 400 / 15348\n",
      "Downloaded 500 / 15348\n",
      "Downloaded 600 / 15348\n",
      "Downloaded 700 / 15348\n",
      "Downloaded 800 / 15348\n",
      "Downloaded 900 / 15348\n",
      "Downloaded 1000 / 15348\n",
      "Downloaded 1100 / 15348\n",
      "Downloaded 1200 / 15348\n",
      "Downloaded 1300 / 15348\n",
      "Downloaded 1400 / 15348\n",
      "Downloaded 1500 / 15348\n",
      "Downloaded 1600 / 15348\n",
      "Downloaded 1700 / 15348\n",
      "Downloaded 1800 / 15348\n",
      "Downloaded 1900 / 15348\n",
      "Downloaded 2000 / 15348\n",
      "Downloaded 2100 / 15348\n",
      "Downloaded 2200 / 15348\n",
      "Downloaded 2300 / 15348\n",
      "Downloaded 2400 / 15348\n",
      "Downloaded 2500 / 15348\n",
      "Downloaded 2600 / 15348\n",
      "Downloaded 2700 / 15348\n",
      "Downloaded 2800 / 15348\n",
      "Downloaded 2900 / 15348\n",
      "Downloaded 3000 / 15348\n",
      "Downloaded 3100 / 15348\n",
      "Downloaded 3200 / 15348\n",
      "Downloaded 3300 / 15348\n",
      "Downloaded 3400 / 15348\n",
      "Downloaded 3500 / 15348\n",
      "Downloaded 3600 / 15348\n",
      "Downloaded 3700 / 15348\n",
      "Downloaded 3800 / 15348\n",
      "Downloaded 3900 / 15348\n",
      "Downloaded 4000 / 15348\n",
      "Downloaded 4100 / 15348\n",
      "Downloaded 4200 / 15348\n",
      "Downloaded 4300 / 15348\n",
      "Downloaded 4400 / 15348\n",
      "Downloaded 4500 / 15348\n",
      "Downloaded 4600 / 15348\n",
      "Downloaded 4700 / 15348\n",
      "Downloaded 4800 / 15348\n",
      "Downloaded 4900 / 15348\n",
      "Downloaded 5000 / 15348\n",
      "Downloaded 5100 / 15348\n",
      "Downloaded 5200 / 15348\n",
      "Downloaded 5300 / 15348\n",
      "Downloaded 5400 / 15348\n",
      "Downloaded 5500 / 15348\n",
      "Downloaded 5600 / 15348\n",
      "Downloaded 5700 / 15348\n",
      "Downloaded 5800 / 15348\n",
      "Downloaded 5900 / 15348\n",
      "Downloaded 6000 / 15348\n",
      "Downloaded 6100 / 15348\n",
      "Downloaded 6200 / 15348\n",
      "Downloaded 6300 / 15348\n",
      "Downloaded 6400 / 15348\n",
      "Downloaded 6500 / 15348\n",
      "Downloaded 6600 / 15348\n",
      "Downloaded 6700 / 15348\n",
      "Downloaded 6800 / 15348\n",
      "Downloaded 6900 / 15348\n",
      "Downloaded 7000 / 15348\n",
      "Downloaded 7100 / 15348\n",
      "Downloaded 7200 / 15348\n",
      "Downloaded 7300 / 15348\n",
      "Downloaded 7400 / 15348\n",
      "Downloaded 7500 / 15348\n",
      "Downloaded 7600 / 15348\n",
      "Downloaded 7700 / 15348\n",
      "Downloaded 7800 / 15348\n",
      "Downloaded 7900 / 15348\n",
      "Downloaded 8000 / 15348\n",
      "Downloaded 8100 / 15348\n",
      "Downloaded 8200 / 15348\n",
      "Downloaded 8300 / 15348\n",
      "Downloaded 8400 / 15348\n",
      "Downloaded 8500 / 15348\n",
      "Downloaded 8600 / 15348\n",
      "Downloaded 8700 / 15348\n",
      "Downloaded 8800 / 15348\n",
      "Downloaded 8900 / 15348\n",
      "Downloaded 9000 / 15348\n",
      "Downloaded 9100 / 15348\n",
      "Downloaded 9200 / 15348\n",
      "Downloaded 9300 / 15348\n",
      "Downloaded 9400 / 15348\n",
      "Downloaded 9500 / 15348\n",
      "Downloaded 9600 / 15348\n",
      "Downloaded 9700 / 15348\n",
      "Downloaded 9800 / 15348\n",
      "Downloaded 9900 / 15348\n",
      "Downloaded 10000 / 15348\n",
      "Downloaded 10100 / 15348\n",
      "Downloaded 10200 / 15348\n",
      "Downloaded 10300 / 15348\n",
      "Downloaded 10400 / 15348\n",
      "Downloaded 10500 / 15348\n",
      "Downloaded 10600 / 15348\n",
      "Downloaded 10700 / 15348\n",
      "Downloaded 10800 / 15348\n",
      "Downloaded 10900 / 15348\n",
      "Downloaded 11000 / 15348\n",
      "Downloaded 11100 / 15348\n",
      "Downloaded 11200 / 15348\n",
      "Downloaded 11300 / 15348\n",
      "Downloaded 11400 / 15348\n",
      "Downloaded 11500 / 15348\n",
      "Downloaded 11600 / 15348\n",
      "Downloaded 11700 / 15348\n",
      "Downloaded 11800 / 15348\n",
      "Downloaded 11900 / 15348\n",
      "Downloaded 12000 / 15348\n",
      "Downloaded 12100 / 15348\n",
      "Downloaded 12200 / 15348\n",
      "Downloaded 12300 / 15348\n",
      "Downloaded 12400 / 15348\n",
      "Downloaded 12500 / 15348\n",
      "Downloaded 12600 / 15348\n",
      "Downloaded 12700 / 15348\n",
      "Downloaded 12800 / 15348\n",
      "Downloaded 12900 / 15348\n",
      "Downloaded 13000 / 15348\n",
      "Downloaded 13100 / 15348\n",
      "Downloaded 13200 / 15348\n",
      "Downloaded 13300 / 15348\n",
      "Downloaded 13400 / 15348\n",
      "Downloaded 13500 / 15348\n",
      "Downloaded 13600 / 15348\n",
      "Downloaded 13700 / 15348\n",
      "Downloaded 13800 / 15348\n",
      "Downloaded 13900 / 15348\n",
      "Downloaded 14000 / 15348\n",
      "Downloaded 14100 / 15348\n",
      "Downloaded 14200 / 15348\n",
      "Downloaded 14300 / 15348\n",
      "Downloaded 14400 / 15348\n",
      "Downloaded 14500 / 15348\n",
      "Downloaded 14600 / 15348\n",
      "Downloaded 14700 / 15348\n",
      "Downloaded 14800 / 15348\n",
      "Downloaded 14900 / 15348\n",
      "Downloaded 15000 / 15348\n",
      "Downloaded 15100 / 15348\n",
      "Downloaded 15200 / 15348\n",
      "Downloaded 15300 / 15348\n"
     ]
    }
   ],
   "source": [
    "search_utils.download_feature_vectors(filelist, feature_path, feature_gen)"
   ]
  },
  {
   "cell_type": "markdown",
   "metadata": {},
   "source": [
    "## Split 114 features into 64 and 50"
   ]
  },
  {
   "cell_type": "code",
   "execution_count": 15,
   "metadata": {
    "collapsed": true
   },
   "outputs": [],
   "source": [
    "feat_path64 = os.path.join(feature_root, 'akiwi_64')\n",
    "if not os.path.exists(feat_path64):\n",
    "    os.makedirs(feat_path64)\n",
    "    \n",
    "feat_path50 = os.path.join(feature_root, 'akiwi_50')\n",
    "if not os.path.exists(feat_path50):\n",
    "    os.makedirs(feat_path50)"
   ]
  },
  {
   "cell_type": "code",
   "execution_count": 20,
   "metadata": {},
   "outputs": [
    {
     "name": "stdout",
     "output_type": "stream",
     "text": [
      "0\n",
      "1000\n",
      "2000\n",
      "3000\n",
      "4000\n",
      "5000\n",
      "6000\n",
      "7000\n",
      "8000\n",
      "9000\n",
      "10000\n",
      "11000\n",
      "12000\n",
      "13000\n",
      "14000\n",
      "15000\n"
     ]
    }
   ],
   "source": [
    "feats114 = glob.glob(os.path.join(feature_path,'*.npy'))\n",
    "for idx, file in enumerate(feats114):\n",
    "    if idx % 1000 == 0:\n",
    "        print(idx)\n",
    "    \n",
    "    fv = np.load(file)\n",
    "    \n",
    "    feat64 = fv[:64]\n",
    "    np.save(os.path.join(feat_path64, os.path.basename(file)), feat64)\n",
    "    \n",
    "    feat50 = fv[64:]\n",
    "    np.save(os.path.join(feat_path50, os.path.basename(file)), feat50)"
   ]
  },
  {
   "cell_type": "markdown",
   "metadata": {},
   "source": [
    "# Original ResNet152 Features"
   ]
  },
  {
   "cell_type": "code",
   "execution_count": 7,
   "metadata": {
    "collapsed": true
   },
   "outputs": [],
   "source": [
    "feature_path = os.path.join(feature_root, 'resnet')\n",
    "feature_gen = search_utils.ResnetFeatureGenerator()"
   ]
  },
  {
   "cell_type": "code",
   "execution_count": 9,
   "metadata": {},
   "outputs": [
    {
     "name": "stdout",
     "output_type": "stream",
     "text": [
      "Downloaded 0 / 15348\n",
      "Downloaded 100 / 15348\n",
      "Downloaded 200 / 15348\n",
      "Downloaded 300 / 15348\n",
      "Downloaded 400 / 15348\n",
      "Downloaded 500 / 15348\n",
      "Downloaded 600 / 15348\n",
      "Downloaded 700 / 15348\n",
      "Downloaded 800 / 15348\n",
      "Downloaded 900 / 15348\n",
      "Downloaded 1000 / 15348\n",
      "Downloaded 1100 / 15348\n",
      "Downloaded 1200 / 15348\n",
      "Downloaded 1300 / 15348\n",
      "Downloaded 1400 / 15348\n",
      "Downloaded 1500 / 15348\n",
      "Downloaded 1600 / 15348\n",
      "Downloaded 1700 / 15348\n",
      "Downloaded 1800 / 15348\n",
      "Downloaded 1900 / 15348\n",
      "Downloaded 2000 / 15348\n",
      "Downloaded 2100 / 15348\n",
      "Downloaded 2200 / 15348\n",
      "Downloaded 2300 / 15348\n",
      "Downloaded 2400 / 15348\n",
      "Downloaded 2500 / 15348\n",
      "Downloaded 2600 / 15348\n",
      "Downloaded 2700 / 15348\n",
      "Downloaded 2800 / 15348\n",
      "Downloaded 2900 / 15348\n",
      "Downloaded 3000 / 15348\n",
      "Downloaded 3100 / 15348\n",
      "Downloaded 3200 / 15348\n",
      "Downloaded 3300 / 15348\n",
      "Downloaded 3400 / 15348\n",
      "Downloaded 3500 / 15348\n",
      "Downloaded 3600 / 15348\n",
      "Downloaded 3700 / 15348\n",
      "Downloaded 3800 / 15348\n",
      "Downloaded 3900 / 15348\n",
      "Downloaded 4000 / 15348\n",
      "Downloaded 4100 / 15348\n",
      "Downloaded 4200 / 15348\n",
      "Downloaded 4300 / 15348\n",
      "Downloaded 4400 / 15348\n",
      "Downloaded 4500 / 15348\n",
      "Downloaded 4600 / 15348\n",
      "Downloaded 4700 / 15348\n",
      "Downloaded 4800 / 15348\n",
      "Downloaded 4900 / 15348\n",
      "Downloaded 5000 / 15348\n",
      "Downloaded 5100 / 15348\n",
      "Downloaded 5200 / 15348\n",
      "Downloaded 5300 / 15348\n",
      "Downloaded 5400 / 15348\n",
      "Downloaded 5500 / 15348\n",
      "Downloaded 5600 / 15348\n",
      "Downloaded 5700 / 15348\n",
      "Downloaded 5800 / 15348\n",
      "Downloaded 5900 / 15348\n",
      "Downloaded 6000 / 15348\n",
      "Downloaded 6100 / 15348\n",
      "Downloaded 6200 / 15348\n",
      "Downloaded 6300 / 15348\n",
      "Downloaded 6400 / 15348\n",
      "Downloaded 6500 / 15348\n",
      "Downloaded 6600 / 15348\n",
      "Downloaded 6700 / 15348\n",
      "Downloaded 6800 / 15348\n",
      "Downloaded 6900 / 15348\n",
      "Downloaded 7000 / 15348\n",
      "Downloaded 7100 / 15348\n",
      "Downloaded 7200 / 15348\n",
      "Downloaded 7300 / 15348\n",
      "Downloaded 7400 / 15348\n",
      "Downloaded 7500 / 15348\n",
      "Downloaded 7600 / 15348\n",
      "Downloaded 7700 / 15348\n",
      "Downloaded 7800 / 15348\n",
      "Downloaded 7900 / 15348\n",
      "Downloaded 8000 / 15348\n",
      "Downloaded 8100 / 15348\n",
      "Downloaded 8200 / 15348\n",
      "Downloaded 8300 / 15348\n",
      "Downloaded 8400 / 15348\n",
      "Downloaded 8500 / 15348\n",
      "Downloaded 8600 / 15348\n",
      "Downloaded 8700 / 15348\n",
      "Downloaded 8800 / 15348\n",
      "Downloaded 8900 / 15348\n",
      "Downloaded 9000 / 15348\n",
      "Downloaded 9100 / 15348\n",
      "Downloaded 9200 / 15348\n",
      "Downloaded 9300 / 15348\n",
      "Downloaded 9400 / 15348\n",
      "Downloaded 9500 / 15348\n",
      "Downloaded 9600 / 15348\n",
      "Downloaded 9700 / 15348\n",
      "Downloaded 9800 / 15348\n",
      "Downloaded 9900 / 15348\n",
      "Downloaded 10000 / 15348\n",
      "Downloaded 10100 / 15348\n",
      "Downloaded 10200 / 15348\n",
      "Downloaded 10300 / 15348\n",
      "Downloaded 10400 / 15348\n",
      "Downloaded 10500 / 15348\n",
      "Downloaded 10600 / 15348\n",
      "Downloaded 10700 / 15348\n",
      "Downloaded 10800 / 15348\n",
      "Downloaded 10900 / 15348\n",
      "Downloaded 11000 / 15348\n",
      "Downloaded 11100 / 15348\n",
      "Downloaded 11200 / 15348\n",
      "Downloaded 11300 / 15348\n",
      "Downloaded 11400 / 15348\n",
      "Downloaded 11500 / 15348\n",
      "Downloaded 11600 / 15348\n",
      "Downloaded 11700 / 15348\n",
      "Downloaded 11800 / 15348\n",
      "Downloaded 11900 / 15348\n",
      "Downloaded 12000 / 15348\n",
      "Downloaded 12100 / 15348\n",
      "Downloaded 12200 / 15348\n",
      "Downloaded 12300 / 15348\n",
      "Downloaded 12400 / 15348\n",
      "Downloaded 12500 / 15348\n",
      "Downloaded 12600 / 15348\n",
      "Downloaded 12700 / 15348\n",
      "Downloaded 12800 / 15348\n",
      "Downloaded 12900 / 15348\n",
      "Downloaded 13000 / 15348\n",
      "Downloaded 13100 / 15348\n",
      "Downloaded 13200 / 15348\n",
      "Downloaded 13300 / 15348\n",
      "Downloaded 13400 / 15348\n",
      "Downloaded 13500 / 15348\n",
      "Downloaded 13600 / 15348\n",
      "Downloaded 13700 / 15348\n",
      "Downloaded 13800 / 15348\n",
      "Downloaded 13900 / 15348\n",
      "Downloaded 14000 / 15348\n",
      "Downloaded 14100 / 15348\n",
      "Downloaded 14200 / 15348\n",
      "Downloaded 14300 / 15348\n",
      "Downloaded 14400 / 15348\n",
      "Downloaded 14500 / 15348\n",
      "Downloaded 14600 / 15348\n",
      "Downloaded 14700 / 15348\n",
      "Downloaded 14800 / 15348\n",
      "Downloaded 14900 / 15348\n",
      "Downloaded 15000 / 15348\n",
      "Downloaded 15100 / 15348\n",
      "Downloaded 15200 / 15348\n",
      "Downloaded 15300 / 15348\n"
     ]
    }
   ],
   "source": [
    "search_utils.download_feature_vectors(filelist, feature_path, feature_gen)"
   ]
  },
  {
   "cell_type": "markdown",
   "metadata": {},
   "source": [
    "# Retrained ResNet152 Features"
   ]
  },
  {
   "cell_type": "code",
   "execution_count": null,
   "metadata": {
    "collapsed": true
   },
   "outputs": [],
   "source": [
    "feature_path = os.path.join(feature_root, 'resnet_retrained')\n",
    "feature_gen = search_utils.ResnetFeatureGenerator('./models/resnet152_retrained.pth')"
   ]
  },
  {
   "cell_type": "code",
   "execution_count": null,
   "metadata": {},
   "outputs": [
    {
     "name": "stdout",
     "output_type": "stream",
     "text": [
      "Downloaded 0 / 15348\n",
      "Downloaded 100 / 15348\n",
      "Downloaded 200 / 15348\n",
      "Downloaded 300 / 15348\n",
      "Downloaded 400 / 15348\n",
      "Downloaded 500 / 15348\n",
      "Downloaded 600 / 15348\n",
      "Downloaded 700 / 15348\n",
      "Downloaded 800 / 15348\n",
      "Downloaded 900 / 15348\n",
      "Downloaded 1000 / 15348\n",
      "Downloaded 1100 / 15348\n",
      "Downloaded 1200 / 15348\n",
      "Downloaded 1300 / 15348\n",
      "Downloaded 1400 / 15348\n",
      "Downloaded 1500 / 15348\n",
      "Downloaded 1600 / 15348\n",
      "Downloaded 1700 / 15348\n",
      "Downloaded 1800 / 15348\n",
      "Downloaded 1900 / 15348\n",
      "Downloaded 2000 / 15348\n"
     ]
    }
   ],
   "source": [
    "search_utils.download_feature_vectors(filelist, feature_path, feature_gen)"
   ]
  },
  {
   "cell_type": "code",
   "execution_count": null,
   "metadata": {
    "collapsed": true
   },
   "outputs": [],
   "source": []
  }
 ],
 "metadata": {
  "kernelspec": {
   "display_name": "Python 3",
   "language": "python",
   "name": "python3"
  },
  "language_info": {
   "codemirror_mode": {
    "name": "ipython",
    "version": 3
   },
   "file_extension": ".py",
   "mimetype": "text/x-python",
   "name": "python",
   "nbconvert_exporter": "python",
   "pygments_lexer": "ipython3",
   "version": "3.6.3"
  }
 },
 "nbformat": 4,
 "nbformat_minor": 2
}
