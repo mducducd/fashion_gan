{
 "cells": [
  {
   "cell_type": "code",
   "execution_count": 1,
   "metadata": {
    "collapsed": true
   },
   "outputs": [],
   "source": [
    "import os\n",
    "import glob\n",
    "import numpy as np\n",
    "import pandas as pd\n",
    "import matplotlib.pyplot as plt\n",
    "from PIL import Image\n",
    "import shutil\n",
    "import image_utils\n",
    "\n",
    "from sklearn.metrics.pairwise import pairwise_distances\n",
    "from sklearn.decomposition import PCA\n",
    "from sklearn.preprocessing import StandardScaler\n",
    "\n",
    "import torch\n",
    "import torchvision\n",
    "import torch.nn as nn\n",
    "from torchvision import transforms\n",
    "\n",
    "\n",
    "%matplotlib inline"
   ]
  },
  {
   "cell_type": "markdown",
   "metadata": {},
   "source": [
    "# Load Data"
   ]
  },
  {
   "cell_type": "code",
   "execution_count": 2,
   "metadata": {
    "collapsed": true
   },
   "outputs": [],
   "source": [
    "data_path = './test_images/dresses_sample/*.jpg'"
   ]
  },
  {
   "cell_type": "code",
   "execution_count": 3,
   "metadata": {},
   "outputs": [
    {
     "name": "stdout",
     "output_type": "stream",
     "text": [
      "num images:  500\n"
     ]
    }
   ],
   "source": [
    "# read data\n",
    "filelist = glob.glob(data_path)\n",
    "filelist = sorted(filelist)\n",
    "print('num images: ', len(filelist))"
   ]
  },
  {
   "cell_type": "code",
   "execution_count": 4,
   "metadata": {
    "collapsed": true
   },
   "outputs": [],
   "source": [
    "filenames = [os.path.basename(f).split('.jpg')[0] for f in filelist]\n",
    "filenames = sorted(filenames)"
   ]
  },
  {
   "cell_type": "markdown",
   "metadata": {},
   "source": [
    "# Get Features From Retrained ResNet152"
   ]
  },
  {
   "cell_type": "code",
   "execution_count": null,
   "metadata": {
    "collapsed": true
   },
   "outputs": [],
   "source": [
    "feature_path = './test_features/dresses_sample/resnet_2048/'"
   ]
  },
  {
   "cell_type": "code",
   "execution_count": null,
   "metadata": {
    "collapsed": true
   },
   "outputs": [],
   "source": [
    "model_path = \"./transfer_learning/best_model.pth\"\n",
    "model = torchvision.models.resnet152(pretrained=True)\n",
    "num_ftrs = model.fc.in_features\n",
    "model.fc = nn.Linear(num_ftrs, 7)\n",
    "model.load_state_dict(torch.load(model_path, map_location='cpu'))\n",
    "modules = list(model.children())[:-1]\n",
    "model_last = nn.Sequential(*modules)"
   ]
  },
  {
   "cell_type": "code",
   "execution_count": null,
   "metadata": {
    "collapsed": true
   },
   "outputs": [],
   "source": [
    "data_transforms = transforms.Compose([\n",
    "        transforms.Resize(224),\n",
    "        transforms.ToTensor(),\n",
    "        transforms.Normalize([0.485, 0.456, 0.406], [0.229, 0.224, 0.225])\n",
    "    ])"
   ]
  },
  {
   "cell_type": "code",
   "execution_count": null,
   "metadata": {
    "collapsed": true
   },
   "outputs": [],
   "source": [
    "image_utils.save_feature_vectors_from_model(filelist, feature_path, model_last, data_transforms)"
   ]
  },
  {
   "cell_type": "markdown",
   "metadata": {},
   "source": [
    "# Get Features From Original ResNet152"
   ]
  },
  {
   "cell_type": "code",
   "execution_count": null,
   "metadata": {
    "collapsed": true
   },
   "outputs": [],
   "source": [
    "model = torchvision.models.resnet152(pretrained=True)\n",
    "modules = list(model.children())[:-1]\n",
    "model_last = nn.Sequential(*modules)"
   ]
  },
  {
   "cell_type": "code",
   "execution_count": null,
   "metadata": {
    "collapsed": true
   },
   "outputs": [],
   "source": [
    "feature_path = './test_features/dresses_sample/resnet_orig_2048/'\n",
    "image_utils.save_feature_vectors_from_model(filelist, feature_path, model_last, data_transforms)"
   ]
  },
  {
   "cell_type": "markdown",
   "metadata": {},
   "source": [
    "# Get PCA From ResNet152"
   ]
  },
  {
   "cell_type": "code",
   "execution_count": 8,
   "metadata": {},
   "outputs": [],
   "source": [
    "feature_path = './test_features/dresses_sample/resnet_retrained/'\n",
    "resnet_retrained_feats = np.array([np.load(f) for f in glob.glob(feature_path + '*.npy')])"
   ]
  },
  {
   "cell_type": "code",
   "execution_count": 9,
   "metadata": {
    "collapsed": true
   },
   "outputs": [],
   "source": [
    "scaler = StandardScaler()\n",
    "resnet_retrained_feats_std = scaler.fit_transform(resnet_retrained_feats)"
   ]
  },
  {
   "cell_type": "code",
   "execution_count": 31,
   "metadata": {},
   "outputs": [
    {
     "data": {
      "text/plain": [
       "(500, 32)"
      ]
     },
     "execution_count": 31,
     "metadata": {},
     "output_type": "execute_result"
    }
   ],
   "source": [
    "sklearn_pca = PCA(svd_solver='full', n_components=32)\n",
    "resnet_feats_pca = sklearn_pca.fit_transform(resnet_retrained_feats_std)\n",
    "resnet_feats_pca.shape"
   ]
  },
  {
   "cell_type": "code",
   "execution_count": 32,
   "metadata": {},
   "outputs": [
    {
     "data": {
      "text/plain": [
       "array([ 52.6195755 ,  41.55685425,  40.03969193,  32.71588516,\n",
       "        23.00945854,  21.33922195,  19.52515602,  18.64884186,\n",
       "        16.78881073,  16.18824577,  15.12319756,  14.117589  ,\n",
       "        13.00993538,  12.89759541,  12.00266361,  11.82472706,\n",
       "        11.39754105,  11.03301239,  10.60323715,  10.54831886,\n",
       "        10.36052799,  10.29282856,  10.12097168,   9.59531116,\n",
       "         9.56508064,   9.44876289,   9.39140511,   9.0709486 ,\n",
       "         9.05137539,   8.97712803,   8.95532036,   8.80162907], dtype=float32)"
      ]
     },
     "execution_count": 32,
     "metadata": {},
     "output_type": "execute_result"
    }
   ],
   "source": [
    "sklearn_pca.explained_variance_"
   ]
  },
  {
   "cell_type": "code",
   "execution_count": 33,
   "metadata": {
    "collapsed": true
   },
   "outputs": [],
   "source": [
    "pca_feature_path = './test_features/dresses_sample/resnet_retrained_pca_32/'\n",
    "if not os.path.exists(pca_feature_path):\n",
    "    os.makedirs(pca_feature_path)"
   ]
  },
  {
   "cell_type": "code",
   "execution_count": 34,
   "metadata": {
    "collapsed": true
   },
   "outputs": [],
   "source": [
    "for idx, filename in enumerate(filenames):\n",
    "    np.save(os.path.join(pca_feature_path, filename + '.npy'), resnet_feats_pca[idx])"
   ]
  },
  {
   "cell_type": "markdown",
   "metadata": {},
   "source": [
    "# Get Features From Akiwi"
   ]
  },
  {
   "cell_type": "code",
   "execution_count": 5,
   "metadata": {},
   "outputs": [
    {
     "name": "stdout",
     "output_type": "stream",
     "text": [
      "Downloaded 0 / 500\n",
      "Downloaded 100 / 500\n",
      "Downloaded 200 / 500\n",
      "Downloaded 300 / 500\n",
      "Downloaded 400 / 500\n"
     ]
    }
   ],
   "source": [
    "feature_path = './test_features/dresses_sample/akiwi_114/'\n",
    "image_utils.download_feature_vectors_114(filelist, feature_path)"
   ]
  },
  {
   "cell_type": "code",
   "execution_count": 6,
   "metadata": {},
   "outputs": [
    {
     "name": "stdout",
     "output_type": "stream",
     "text": [
      "Downloaded 0 / 500\n",
      "Downloaded 100 / 500\n",
      "Downloaded 200 / 500\n",
      "Downloaded 300 / 500\n",
      "Downloaded 400 / 500\n"
     ]
    }
   ],
   "source": [
    "feature_path = './test_features/dresses_sample/akiwi_50/'\n",
    "image_utils.download_feature_vectors(filelist, feature_path, feature_size=50)"
   ]
  },
  {
   "cell_type": "code",
   "execution_count": 7,
   "metadata": {},
   "outputs": [
    {
     "name": "stdout",
     "output_type": "stream",
     "text": [
      "Downloaded 0 / 500\n",
      "Downloaded 100 / 500\n",
      "Downloaded 200 / 500\n",
      "Downloaded 300 / 500\n",
      "Downloaded 400 / 500\n"
     ]
    }
   ],
   "source": [
    "feature_path = './test_features/dresses_sample/akiwi_64/'\n",
    "image_utils.download_feature_vectors(filelist, feature_path, feature_size=64)"
   ]
  },
  {
   "cell_type": "code",
   "execution_count": null,
   "metadata": {
    "collapsed": true
   },
   "outputs": [],
   "source": []
  }
 ],
 "metadata": {
  "kernelspec": {
   "display_name": "Python 3",
   "language": "python",
   "name": "python3"
  },
  "language_info": {
   "codemirror_mode": {
    "name": "ipython",
    "version": 3
   },
   "file_extension": ".py",
   "mimetype": "text/x-python",
   "name": "python",
   "nbconvert_exporter": "python",
   "pygments_lexer": "ipython3",
   "version": "3.6.3"
  }
 },
 "nbformat": 4,
 "nbformat_minor": 2
}
