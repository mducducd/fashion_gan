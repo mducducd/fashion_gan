{
 "cells": [
  {
   "cell_type": "code",
   "execution_count": null,
   "metadata": {
    "collapsed": true
   },
   "outputs": [],
   "source": [
    "import os\n",
    "import numpy as np\n",
    "import pandas as pd\n",
    "import matplotlib.pyplot as plt\n",
    "from PIL import Image\n",
    "import image_utils\n",
    "from sklearn.metrics.pairwise import pairwise_distances\n",
    "\n",
    "%matplotlib inline"
   ]
  },
  {
   "cell_type": "code",
   "execution_count": null,
   "metadata": {
    "collapsed": true
   },
   "outputs": [],
   "source": [
    "data_path = '../../data/fashion/dresses/'\n",
    "feature_path = '../../data/features50/dresses/'"
   ]
  },
  {
   "cell_type": "code",
   "execution_count": null,
   "metadata": {},
   "outputs": [],
   "source": [
    "image_utils.download_feature_vectors(data_path, feature_path, feature_size=50)"
   ]
  },
  {
   "cell_type": "code",
   "execution_count": null,
   "metadata": {
    "collapsed": true
   },
   "outputs": [],
   "source": [
    "filenames = [file.split('.')[0] for file in os.listdir(data_path)]\n",
    "filenames_test = filenames[:10]\n",
    "filenames = filenames[10:]"
   ]
  },
  {
   "cell_type": "code",
   "execution_count": null,
   "metadata": {
    "collapsed": true
   },
   "outputs": [],
   "source": [
    "feature64_path = '../../data/features64/dresses/'\n",
    "feature50_path = '../../data/features50/dresses/'\n",
    "feature114_path = '../../data/features114/dresses/'\n",
    "\n",
    "features64 = np.array([image_utils.load_feature_vector(os.path.join(feature64_path, file + '.npy')) \n",
    "                       for file in filenames])\n",
    "features50 = np.array([image_utils.load_feature_vector(os.path.join(feature50_path, file + '.npy')) \n",
    "                       for file in filenames])\n",
    "features114 = np.array([image_utils.load_feature_vector(os.path.join(feature114_path, file + '.npy')) \n",
    "                       for file in filenames])\n",
    "\n",
    "features64_dist = pd.DataFrame(data=pairwise_distances(features64), index=filenames, columns=filenames)\n",
    "features50_dist = pd.DataFrame(data=pairwise_distances(features50), index=filenames, columns=filenames)\n",
    "features114_dist = pd.DataFrame(data=pairwise_distances(features114), index=filenames, columns=filenames)"
   ]
  },
  {
   "cell_type": "code",
   "execution_count": null,
   "metadata": {
    "collapsed": true
   },
   "outputs": [],
   "source": [
    "def get_closest_images(filenames, df_distances):\n",
    "    df_sample = df_distances.loc[filenames].T\n",
    "    \n",
    "    for col in df_sample.columns:\n",
    "        fig, axarr = plt.subplots(ncols=6, nrows=1, figsize=(12, 12))\n",
    "\n",
    "        orig_img = Image.open(os.path.join(data_path, col + '.jpg'))\n",
    "        axarr[0].imshow(orig_img)\n",
    "        axarr[0].axis('off')\n",
    "\n",
    "        best_imgs = df_distances[col].nsmallest(6).index[1:]\n",
    "        for idx, img_path in enumerate(best_imgs):\n",
    "            ax = axarr[idx+1]\n",
    "            img = Image.open(os.path.join(data_path, img_path + '.jpg'))\n",
    "            ax.imshow(img)\n",
    "            ax.axis('off')\n",
    "        plt.tight_layout()"
   ]
  },
  {
   "cell_type": "code",
   "execution_count": null,
   "metadata": {},
   "outputs": [],
   "source": [
    "test_files = filenames[7:10]\n",
    "get_closest_images(test_files, features64_dist)"
   ]
  },
  {
   "cell_type": "code",
   "execution_count": null,
   "metadata": {},
   "outputs": [],
   "source": [
    "get_closest_images(test_files, features114_dist)"
   ]
  },
  {
   "cell_type": "code",
   "execution_count": null,
   "metadata": {},
   "outputs": [],
   "source": [
    "feature114_path = '../../data/features114/dresses/'\n",
    "image_utils.concat_feature_vectors(feature64_path, feature50_path, feature114_path)"
   ]
  },
  {
   "cell_type": "code",
   "execution_count": null,
   "metadata": {
    "collapsed": true
   },
   "outputs": [],
   "source": []
  }
 ],
 "metadata": {
  "kernelspec": {
   "display_name": "Python 3",
   "language": "python",
   "name": "python3"
  },
  "language_info": {
   "codemirror_mode": {
    "name": "ipython",
    "version": 3
   },
   "file_extension": ".py",
   "mimetype": "text/x-python",
   "name": "python",
   "nbconvert_exporter": "python",
   "pygments_lexer": "ipython3",
   "version": "3.6.3"
  }
 },
 "nbformat": 4,
 "nbformat_minor": 2
}
