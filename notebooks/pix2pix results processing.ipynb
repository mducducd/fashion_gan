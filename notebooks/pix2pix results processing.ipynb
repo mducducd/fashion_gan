{
 "cells": [
  {
   "cell_type": "code",
   "execution_count": 1,
   "metadata": {
    "collapsed": true
   },
   "outputs": [],
   "source": [
    "import os\n",
    "from PIL import Image\n",
    "import pandas as pd\n",
    "import matplotlib.pyplot as plt\n",
    "import glob\n",
    "\n",
    "import numpy as np"
   ]
  },
  {
   "cell_type": "code",
   "execution_count": 2,
   "metadata": {},
   "outputs": [
    {
     "data": {
      "text/plain": [
       "['../pytorch-CycleGAN-and-pix2pix/results/1_dresses_to_models_new/test_140/images',\n",
       " '../pytorch-CycleGAN-and-pix2pix/results/2_dresses_to_models_soft_labels/test_140/images',\n",
       " '../pytorch-CycleGAN-and-pix2pix/results/3_dresses_to_models_fliplower/test_140/images',\n",
       " '../pytorch-CycleGAN-and-pix2pix/results/4_dresses_to_models_lr_fliplower/test_140/images',\n",
       " '../pytorch-CycleGAN-and-pix2pix/results/5_dresses_to_models_lambda_fliplower/test_140/images']"
      ]
     },
     "execution_count": 2,
     "metadata": {},
     "output_type": "execute_result"
    }
   ],
   "source": [
    "test_dirs = glob.glob('../pytorch-CycleGAN-and-pix2pix/results/*')\n",
    "test_dirs = sorted([os.path.join(d, 'test_140/images') for d in test_dirs])\n",
    "test_dirs"
   ]
  },
  {
   "cell_type": "code",
   "execution_count": 3,
   "metadata": {},
   "outputs": [
    {
     "ename": "KeyboardInterrupt",
     "evalue": "",
     "output_type": "error",
     "traceback": [
      "\u001b[0;31m---------------------------------------------------------------------------\u001b[0m",
      "\u001b[0;31mAttributeError\u001b[0m                            Traceback (most recent call last)",
      "\u001b[0;32m/Users/sonynka/anaconda/lib/python3.6/site-packages/PIL/ImageFile.py\u001b[0m in \u001b[0;36m_save\u001b[0;34m(im, fp, tile, bufsize)\u001b[0m\n\u001b[1;32m    481\u001b[0m     \u001b[0;32mtry\u001b[0m\u001b[0;34m:\u001b[0m\u001b[0;34m\u001b[0m\u001b[0m\n\u001b[0;32m--> 482\u001b[0;31m         \u001b[0mfh\u001b[0m \u001b[0;34m=\u001b[0m \u001b[0mfp\u001b[0m\u001b[0;34m.\u001b[0m\u001b[0mfileno\u001b[0m\u001b[0;34m(\u001b[0m\u001b[0;34m)\u001b[0m\u001b[0;34m\u001b[0m\u001b[0m\n\u001b[0m\u001b[1;32m    483\u001b[0m         \u001b[0mfp\u001b[0m\u001b[0;34m.\u001b[0m\u001b[0mflush\u001b[0m\u001b[0;34m(\u001b[0m\u001b[0;34m)\u001b[0m\u001b[0;34m\u001b[0m\u001b[0m\n",
      "\u001b[0;31mAttributeError\u001b[0m: '_idat' object has no attribute 'fileno'",
      "\nDuring handling of the above exception, another exception occurred:\n",
      "\u001b[0;31mKeyboardInterrupt\u001b[0m                         Traceback (most recent call last)",
      "\u001b[0;32m<ipython-input-3-e06fea6a01a9>\u001b[0m in \u001b[0;36m<module>\u001b[0;34m()\u001b[0m\n\u001b[1;32m     23\u001b[0m \u001b[0;34m\u001b[0m\u001b[0m\n\u001b[1;32m     24\u001b[0m         \u001b[0mimg\u001b[0m \u001b[0;34m=\u001b[0m \u001b[0mImage\u001b[0m\u001b[0;34m.\u001b[0m\u001b[0mfromarray\u001b[0m\u001b[0;34m(\u001b[0m\u001b[0mimgs\u001b[0m\u001b[0;34m)\u001b[0m\u001b[0;34m\u001b[0m\u001b[0m\n\u001b[0;32m---> 25\u001b[0;31m         \u001b[0mimg\u001b[0m\u001b[0;34m.\u001b[0m\u001b[0msave\u001b[0m\u001b[0;34m(\u001b[0m\u001b[0mos\u001b[0m\u001b[0;34m.\u001b[0m\u001b[0mpath\u001b[0m\u001b[0;34m.\u001b[0m\u001b[0mjoin\u001b[0m\u001b[0;34m(\u001b[0m\u001b[0msave_dir\u001b[0m\u001b[0;34m,\u001b[0m \u001b[0mpath_name\u001b[0m\u001b[0;34m)\u001b[0m\u001b[0;34m)\u001b[0m\u001b[0;34m\u001b[0m\u001b[0m\n\u001b[0m",
      "\u001b[0;32m/Users/sonynka/anaconda/lib/python3.6/site-packages/PIL/Image.py\u001b[0m in \u001b[0;36msave\u001b[0;34m(self, fp, format, **params)\u001b[0m\n\u001b[1;32m   1928\u001b[0m \u001b[0;34m\u001b[0m\u001b[0m\n\u001b[1;32m   1929\u001b[0m         \u001b[0;32mtry\u001b[0m\u001b[0;34m:\u001b[0m\u001b[0;34m\u001b[0m\u001b[0m\n\u001b[0;32m-> 1930\u001b[0;31m             \u001b[0msave_handler\u001b[0m\u001b[0;34m(\u001b[0m\u001b[0mself\u001b[0m\u001b[0;34m,\u001b[0m \u001b[0mfp\u001b[0m\u001b[0;34m,\u001b[0m \u001b[0mfilename\u001b[0m\u001b[0;34m)\u001b[0m\u001b[0;34m\u001b[0m\u001b[0m\n\u001b[0m\u001b[1;32m   1931\u001b[0m         \u001b[0;32mfinally\u001b[0m\u001b[0;34m:\u001b[0m\u001b[0;34m\u001b[0m\u001b[0m\n\u001b[1;32m   1932\u001b[0m             \u001b[0;31m# do what we can to clean up\u001b[0m\u001b[0;34m\u001b[0m\u001b[0;34m\u001b[0m\u001b[0m\n",
      "\u001b[0;32m/Users/sonynka/anaconda/lib/python3.6/site-packages/PIL/PngImagePlugin.py\u001b[0m in \u001b[0;36m_save\u001b[0;34m(im, fp, filename, chunk)\u001b[0m\n\u001b[1;32m    819\u001b[0m \u001b[0;34m\u001b[0m\u001b[0m\n\u001b[1;32m    820\u001b[0m     ImageFile._save(im, _idat(fp, chunk),\n\u001b[0;32m--> 821\u001b[0;31m                     [(\"zip\", (0, 0)+im.size, 0, rawmode)])\n\u001b[0m\u001b[1;32m    822\u001b[0m \u001b[0;34m\u001b[0m\u001b[0m\n\u001b[1;32m    823\u001b[0m     \u001b[0mchunk\u001b[0m\u001b[0;34m(\u001b[0m\u001b[0mfp\u001b[0m\u001b[0;34m,\u001b[0m \u001b[0;34mb\"IEND\"\u001b[0m\u001b[0;34m,\u001b[0m \u001b[0;34mb\"\"\u001b[0m\u001b[0;34m)\u001b[0m\u001b[0;34m\u001b[0m\u001b[0m\n",
      "\u001b[0;32m/Users/sonynka/anaconda/lib/python3.6/site-packages/PIL/ImageFile.py\u001b[0m in \u001b[0;36m_save\u001b[0;34m(im, fp, tile, bufsize)\u001b[0m\n\u001b[1;32m    494\u001b[0m             \u001b[0;32melse\u001b[0m\u001b[0;34m:\u001b[0m\u001b[0;34m\u001b[0m\u001b[0m\n\u001b[1;32m    495\u001b[0m                 \u001b[0;32mwhile\u001b[0m \u001b[0;32mTrue\u001b[0m\u001b[0;34m:\u001b[0m\u001b[0;34m\u001b[0m\u001b[0m\n\u001b[0;32m--> 496\u001b[0;31m                     \u001b[0ml\u001b[0m\u001b[0;34m,\u001b[0m \u001b[0ms\u001b[0m\u001b[0;34m,\u001b[0m \u001b[0md\u001b[0m \u001b[0;34m=\u001b[0m \u001b[0me\u001b[0m\u001b[0;34m.\u001b[0m\u001b[0mencode\u001b[0m\u001b[0;34m(\u001b[0m\u001b[0mbufsize\u001b[0m\u001b[0;34m)\u001b[0m\u001b[0;34m\u001b[0m\u001b[0m\n\u001b[0m\u001b[1;32m    497\u001b[0m                     \u001b[0mfp\u001b[0m\u001b[0;34m.\u001b[0m\u001b[0mwrite\u001b[0m\u001b[0;34m(\u001b[0m\u001b[0md\u001b[0m\u001b[0;34m)\u001b[0m\u001b[0;34m\u001b[0m\u001b[0m\n\u001b[1;32m    498\u001b[0m                     \u001b[0;32mif\u001b[0m \u001b[0ms\u001b[0m\u001b[0;34m:\u001b[0m\u001b[0;34m\u001b[0m\u001b[0m\n",
      "\u001b[0;31mKeyboardInterrupt\u001b[0m: "
     ]
    }
   ],
   "source": [
    "for test_dir in test_dirs:\n",
    "    \n",
    "    save_dir = os.path.join(os.path.dirname(test_dir), 'images_merged')\n",
    "    if not os.path.exists(save_dir):\n",
    "        os.makedirs(save_dir)\n",
    "    \n",
    "    test_files = glob.glob(os.path.join(test_dir, '*.png'))\n",
    "    test_files = sorted(test_files)\n",
    "    \n",
    "    test_realA = [t for t in test_files if 'real_A' in t]\n",
    "    test_realB = [t for t in test_files if 'real_B' in t]\n",
    "    test_fakeB = [t for t in test_files if 'fake_B' in t]\n",
    "    \n",
    "    for test_imgs in zip(test_realA, test_realB, test_fakeB):\n",
    "    \n",
    "        imgs = []\n",
    "\n",
    "        for img_path in test_imgs:\n",
    "            imgs.append(np.array(Image.open(img_path)))\n",
    "\n",
    "        imgs = np.concatenate(imgs, axis=1)\n",
    "        path_name = os.path.basename(test_imgs[0]).replace('_real_A', '')\n",
    "        \n",
    "        img = Image.fromarray(imgs)\n",
    "        img.save(os.path.join(save_dir, path_name))"
   ]
  },
  {
   "cell_type": "code",
   "execution_count": null,
   "metadata": {},
   "outputs": [],
   "source": [
    "test_dirs_merged = [os.path.join(os.path.dirname(t), 'images_merged') for t in test_dirs]\n",
    "test_dirs_merged"
   ]
  },
  {
   "cell_type": "code",
   "execution_count": null,
   "metadata": {
    "collapsed": true
   },
   "outputs": [],
   "source": [
    "for test_dir in test_dirs_merged:\n",
    "    \n",
    "    save_dir = os.path.join(os.path.dirname(test_dir), 'images_grid')\n",
    "    if not os.path.exists(save_dir):\n",
    "        os.makedirs(save_dir)\n",
    "    \n",
    "    test_files = glob.glob(os.path.join(test_dir, '*.png'))\n",
    "    test_files = sorted(test_files)\n",
    "\n",
    "    batch_size = 10\n",
    "    \n",
    "    for i in range(len(test_files)//batch_size):\n",
    "        idx = i*batch_size\n",
    "        test_imgs = test_files[idx:idx+batch_size]\n",
    "        \n",
    "        imgs = []\n",
    "\n",
    "        for img_path in test_imgs:\n",
    "            imgs.append(np.array(Image.open(img_path)))\n",
    "\n",
    "        imgs = np.concatenate(imgs, axis=0)\n",
    "        path_name = os.path.basename(img_path)\n",
    "        \n",
    "        img = Image.fromarray(imgs)\n",
    "        img.save(os.path.join(save_dir, path_name))"
   ]
  },
  {
   "cell_type": "markdown",
   "metadata": {
    "collapsed": true
   },
   "source": [
    "# Thesis Images"
   ]
  },
  {
   "cell_type": "code",
   "execution_count": null,
   "metadata": {},
   "outputs": [],
   "source": [
    "imgs = sorted([\n",
    "        '5650426_474241944'\n",
    "        '9774305'\n",
    "        '9815337'\n",
    "        '605423287'\n",
    "        '5713611404611'\n",
    "        '5713734463984'\n",
    "        '5713780514210'\n",
    "        '181015997465534'\n",
    "        'CLO0070001000003'\n",
    "        'CLO0099001000004'\n",
    "        'L4221C0JH-Q11'\n",
    "        'NEW1407001000004'\n",
    "        'SA321C05Q-Q11'\n",
    "        'SG721C09I-A11'\n",
    "        'SWG0066001000004'\n",
    "        'VK121C018-A11'\n",
    "        'VL421C00G-K11'\n",
    "])"
   ]
  },
  {
   "cell_type": "code",
   "execution_count": null,
   "metadata": {},
   "outputs": [],
   "source": [
    "real_files = sorted(glob.glob(os.path.join(test_dirs[0], '*.png')))\n",
    "realA_files = [f for f in real_files if ('real_A' in f) and any(i in f for i in imgs)]\n",
    "realB_files = [f for f in real_files if ('real_B' in f) and any(i in f for i in imgs)]"
   ]
  },
  {
   "cell_type": "code",
   "execution_count": null,
   "metadata": {},
   "outputs": [],
   "source": [
    "fakeB_files = []\n",
    "\n",
    "for i in imgs:\n",
    "    i_fake = []\n",
    "    \n",
    "    for test_dir in test_dirs:\n",
    "        i_fake.append(os.path.join(test_dir, i + '_fake_B.png'))\n",
    "    \n",
    "    fakeB_files.append(i_fake)"
   ]
  },
  {
   "cell_type": "code",
   "execution_count": null,
   "metadata": {
    "scrolled": true
   },
   "outputs": [],
   "source": [
    "for realA_path, realB_path, fakeB_paths in zip(realA_files, realB_files, fakeB_files):\n",
    "    num_imgs = len(fakeB_paths)+2\n",
    "    \n",
    "    fig, axarr = plt.subplots(1, num_imgs, figsize=(num_imgs*3, 3))\n",
    "    \n",
    "    axarr[0].imshow(Image.open(realA_path))\n",
    "    axarr[1].imshow(Image.open(realB_path))\n",
    "    \n",
    "    for idx, path in enumerate(fakeB_paths):\n",
    "        axarr[idx+2].imshow(Image.open(path))\n",
    "        \n",
    "    for ax in axarr:\n",
    "        ax.axis('off')\n",
    "    \n",
    "    plt.show()"
   ]
  },
  {
   "cell_type": "code",
   "execution_count": null,
   "metadata": {
    "collapsed": true
   },
   "outputs": [],
   "source": []
  }
 ],
 "metadata": {
  "kernelspec": {
   "display_name": "Python 3",
   "language": "python",
   "name": "python3"
  },
  "language_info": {
   "codemirror_mode": {
    "name": "ipython",
    "version": 3
   },
   "file_extension": ".py",
   "mimetype": "text/x-python",
   "name": "python",
   "nbconvert_exporter": "python",
   "pygments_lexer": "ipython3",
   "version": "3.6.3"
  }
 },
 "nbformat": 4,
 "nbformat_minor": 2
}
