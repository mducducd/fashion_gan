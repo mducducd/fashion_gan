{
 "cells": [
  {
   "cell_type": "code",
   "execution_count": 1,
   "metadata": {
    "collapsed": true
   },
   "outputs": [],
   "source": [
    "from PIL import Image\n",
    "import numpy as np\n",
    "import glob\n",
    "import matplotlib.pyplot as plt\n",
    "import os\n",
    "import random\n",
    "\n",
    "from utils.search_utils import Search, CombinedSearch, AkiwiFeatureGenerator, ResnetFeatureGenerator\n",
    "\n",
    "import warnings\n",
    "warnings.filterwarnings('ignore')\n",
    "\n",
    "%matplotlib inline"
   ]
  },
  {
   "cell_type": "markdown",
   "metadata": {},
   "source": [
    "# Load data"
   ]
  },
  {
   "cell_type": "code",
   "execution_count": null,
   "metadata": {
    "collapsed": true
   },
   "outputs": [],
   "source": [
    "product_imgs = '../../data/fashion/dresses/'\n",
    "product_feats_root = './data/features/fashion/dresses/'\n",
    "searches = {}"
   ]
  },
  {
   "cell_type": "code",
   "execution_count": null,
   "metadata": {},
   "outputs": [
    {
     "name": "stdout",
     "output_type": "stream",
     "text": [
      "Loading features from: ./data/features/fashion/dresses/akiwi_50\n",
      "Loading features from: ./data/features/fashion/dresses/akiwi_64\n"
     ]
    }
   ],
   "source": [
    "searches['akiwi_50'] = Search(product_imgs, os.path.join(product_feats_root, 'akiwi_50'), AkiwiFeatureGenerator(50))\n",
    "searches['akiwi_64'] = Search(product_imgs, os.path.join(product_feats_root, 'akiwi_64'), AkiwiFeatureGenerator(64))\n",
    "searches['akiwi_114'] = Search(product_imgs, os.path.join(product_feats_root,'akiwi_114'), AkiwiFeatureGenerator(114))\n",
    "searches['resnet'] = Search(product_imgs, os.path.join(product_feats_root, 'resnet'), ResnetFeatureGenerator())\n",
    "searches['resnet_retrained'] = Search(product_imgs, os.path.join(product_feats_root, 'resnet_retrained'), ResnetFeatureGenerator('./models/resnet152_retrained.pth'))"
   ]
  },
  {
   "cell_type": "code",
   "execution_count": null,
   "metadata": {},
   "outputs": [],
   "source": [
    "searches['resnet_50'] = CombinedSearch([searches['akiwi_50'], searches['resnet']], factors=[0.5, 0.5])\n",
    "searches['resnet_50_0604'] = CombinedSearch([searches['akiwi_50'], searches['resnet']], factors=[0.5, 0.5])\n",
    "searches['resnet_50_0703'] = CombinedSearch([searches['akiwi_50'], searches['resnet']], factors=[0.7, 0.3])\n",
    "searches['resnet_50_0307'] = CombinedSearch([searches['akiwi_50'], searches['resnet']], factors=[0.3, 0.7])"
   ]
  },
  {
   "cell_type": "markdown",
   "metadata": {},
   "source": [
    "# Plot Similar Images"
   ]
  },
  {
   "cell_type": "code",
   "execution_count": null,
   "metadata": {
    "collapsed": true
   },
   "outputs": [],
   "source": [
    "def plot_similar_imgs(imgs, dist, title, input_img=None, save_path=None):\n",
    "    if input_img:\n",
    "        imgs = [input_img] + input_imgs\n",
    "    \n",
    "    num_imgs = len(imgs)\n",
    "    fig, axarr = plt.subplots(1, num_imgs, figsize=(num_imgs*3, 4))\n",
    "\n",
    "    for i, img_path in enumerate(imgs):\n",
    "        img = Image.open(img_path)\n",
    "        img = img.crop((40, 0, 216, 256))\n",
    "        ax = axarr[i]\n",
    "        ax.set_xlabel(round(dist[i], 2), fontsize=22)\n",
    "        ax.set_xticks([])\n",
    "        ax.set_yticks([])\n",
    "        \n",
    "        for s in ax.spines.keys():\n",
    "            ax.spines[s].set_visible(False)\n",
    "        ax.imshow(img)\n",
    "    \n",
    "    fig.suptitle(title, fontsize=28)\n",
    "    if save_path is not None:\n",
    "        plt.savefig(os.path.join('./test_features_results/', save_path))\n",
    "        \n",
    "    plt.show()"
   ]
  },
  {
   "cell_type": "code",
   "execution_count": null,
   "metadata": {
    "collapsed": true
   },
   "outputs": [],
   "source": [
    "def plot_all(img_path, num_imgs=6):\n",
    "    for search_name, search in searches.items():\n",
    "        imgs, dist = search.get_similar_images(Image.open(img_path), num_imgs)\n",
    "        plot_similar_imgs(imgs, dist, search_name)"
   ]
  },
  {
   "cell_type": "code",
   "execution_count": null,
   "metadata": {
    "scrolled": false
   },
   "outputs": [],
   "source": [
    "plot_all('../../data/fashion/dresses/5713733606269.jpg', 10)"
   ]
  },
  {
   "cell_type": "code",
   "execution_count": null,
   "metadata": {},
   "outputs": [],
   "source": [
    "plot_all('../../data/fashion/dresses/L4221C071-G11.jpg', 10)"
   ]
  },
  {
   "cell_type": "code",
   "execution_count": null,
   "metadata": {
    "collapsed": true
   },
   "outputs": [],
   "source": []
  }
 ],
 "metadata": {
  "kernelspec": {
   "display_name": "Python 3",
   "language": "python",
   "name": "python3"
  },
  "language_info": {
   "codemirror_mode": {
    "name": "ipython",
    "version": 3
   },
   "file_extension": ".py",
   "mimetype": "text/x-python",
   "name": "python",
   "nbconvert_exporter": "python",
   "pygments_lexer": "ipython3",
   "version": "3.6.3"
  }
 },
 "nbformat": 4,
 "nbformat_minor": 2
}
